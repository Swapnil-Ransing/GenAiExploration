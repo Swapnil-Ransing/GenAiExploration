{
 "cells": [
  {
   "cell_type": "code",
   "execution_count": 1,
   "id": "74f26cf8",
   "metadata": {},
   "outputs": [
    {
     "data": {
      "text/plain": [
       "True"
      ]
     },
     "execution_count": 1,
     "metadata": {},
     "output_type": "execute_result"
    }
   ],
   "source": [
    "import os\n",
    "from dotenv import load_dotenv\n",
    "load_dotenv()"
   ]
  },
  {
   "cell_type": "code",
   "execution_count": null,
   "id": "9554ab9c",
   "metadata": {},
   "outputs": [
    {
     "name": "stdout",
     "output_type": "stream",
     "text": [
      "^C\n",
      "Note: you may need to restart the kernel to use updated packages.\n"
     ]
    }
   ],
   "source": [
    "# Following package needs to be unistalled using terminal for running GoogleGenerativeAIEmbeddings from langchain_google_genai\n",
    "# #pip uninstall google-generativeai"
   ]
  },
  {
   "cell_type": "code",
   "execution_count": 2,
   "id": "656c5d0f",
   "metadata": {},
   "outputs": [],
   "source": [
    "os.environ[\"GOOGLE_API_KEY\"] = os.getenv('google_api_key')"
   ]
  },
  {
   "cell_type": "code",
   "execution_count": 3,
   "id": "68c8afc3",
   "metadata": {},
   "outputs": [],
   "source": [
    "from langchain_google_genai import GoogleGenerativeAIEmbeddings"
   ]
  },
  {
   "cell_type": "code",
   "execution_count": 4,
   "id": "6f2a3a09",
   "metadata": {},
   "outputs": [],
   "source": [
    "embeddings = GoogleGenerativeAIEmbeddings(model=\"models/text-embedding-004\", task_type=\"retrieval_document\")"
   ]
  },
  {
   "cell_type": "code",
   "execution_count": 5,
   "id": "999020fb",
   "metadata": {},
   "outputs": [
    {
     "data": {
      "text/plain": [
       "[0.006846265867352486,\n",
       " -0.02251487784087658,\n",
       " -0.05496913567185402,\n",
       " -0.020021894946694374,\n",
       " -0.010026923380792141]"
      ]
     },
     "execution_count": 5,
     "metadata": {},
     "output_type": "execute_result"
    }
   ],
   "source": [
    "vector = embeddings.embed_query(\"hello, world!\")\n",
    "vector[:5]"
   ]
  },
  {
   "cell_type": "code",
   "execution_count": 6,
   "id": "6213583f",
   "metadata": {},
   "outputs": [],
   "source": [
    "embeddings = GoogleGenerativeAIEmbeddings(model=\"models/gemini-embedding-exp-03-07\", task_type=\"retrieval_document\")"
   ]
  },
  {
   "cell_type": "code",
   "execution_count": 7,
   "id": "ad2e99e6",
   "metadata": {},
   "outputs": [
    {
     "data": {
      "text/plain": [
       "[-0.022807613015174866,\n",
       " 0.010274127125740051,\n",
       " 0.011706576682627201,\n",
       " -0.09699729084968567,\n",
       " -0.0027657211758196354]"
      ]
     },
     "execution_count": 7,
     "metadata": {},
     "output_type": "execute_result"
    }
   ],
   "source": [
    "vector = embeddings.embed_query(\"hello, world!\")\n",
    "vector[:5]"
   ]
  },
  {
   "cell_type": "code",
   "execution_count": 8,
   "id": "3f5f13bd",
   "metadata": {},
   "outputs": [],
   "source": [
    "# Embedding the document chunks"
   ]
  },
  {
   "cell_type": "code",
   "execution_count": null,
   "id": "f62f3e3e",
   "metadata": {},
   "outputs": [],
   "source": []
  }
 ],
 "metadata": {
  "kernelspec": {
   "display_name": ".venv",
   "language": "python",
   "name": "python3"
  },
  "language_info": {
   "codemirror_mode": {
    "name": "ipython",
    "version": 3
   },
   "file_extension": ".py",
   "mimetype": "text/x-python",
   "name": "python",
   "nbconvert_exporter": "python",
   "pygments_lexer": "ipython3",
   "version": "3.10.0"
  }
 },
 "nbformat": 4,
 "nbformat_minor": 5
}
