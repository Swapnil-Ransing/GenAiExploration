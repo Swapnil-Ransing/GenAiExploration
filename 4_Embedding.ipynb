{
 "cells": [
  {
   "cell_type": "markdown",
   "id": "84c6d238",
   "metadata": {},
   "source": [
    "## Embedding sample with gemini"
   ]
  },
  {
   "cell_type": "code",
   "execution_count": 1,
   "id": "74f26cf8",
   "metadata": {},
   "outputs": [
    {
     "data": {
      "text/plain": [
       "True"
      ]
     },
     "execution_count": 1,
     "metadata": {},
     "output_type": "execute_result"
    }
   ],
   "source": [
    "import os\n",
    "from dotenv import load_dotenv\n",
    "load_dotenv()"
   ]
  },
  {
   "cell_type": "code",
   "execution_count": 2,
   "id": "9554ab9c",
   "metadata": {},
   "outputs": [],
   "source": [
    "# Following package needs to be unistalled using terminal for running GoogleGenerativeAIEmbeddings from langchain_google_genai\n",
    "# #pip uninstall google-generativeai"
   ]
  },
  {
   "cell_type": "code",
   "execution_count": 3,
   "id": "656c5d0f",
   "metadata": {},
   "outputs": [],
   "source": [
    "os.environ[\"GOOGLE_API_KEY\"] = os.getenv('google_api_key')"
   ]
  },
  {
   "cell_type": "code",
   "execution_count": 4,
   "id": "68c8afc3",
   "metadata": {},
   "outputs": [],
   "source": [
    "from langchain_google_genai import GoogleGenerativeAIEmbeddings"
   ]
  },
  {
   "cell_type": "code",
   "execution_count": 5,
   "id": "6f2a3a09",
   "metadata": {},
   "outputs": [],
   "source": [
    "embeddings = GoogleGenerativeAIEmbeddings(model=\"models/text-embedding-004\", task_type=\"retrieval_document\")"
   ]
  },
  {
   "cell_type": "code",
   "execution_count": 6,
   "id": "999020fb",
   "metadata": {},
   "outputs": [
    {
     "data": {
      "text/plain": [
       "[0.006846265867352486,\n",
       " -0.02251487784087658,\n",
       " -0.05496913567185402,\n",
       " -0.020021894946694374,\n",
       " -0.010026923380792141]"
      ]
     },
     "execution_count": 6,
     "metadata": {},
     "output_type": "execute_result"
    }
   ],
   "source": [
    "vector = embeddings.embed_query(\"hello, world!\")\n",
    "vector[:5]"
   ]
  },
  {
   "cell_type": "code",
   "execution_count": 7,
   "id": "6213583f",
   "metadata": {},
   "outputs": [],
   "source": [
    "embeddings = GoogleGenerativeAIEmbeddings(model=\"models/gemini-embedding-exp-03-07\", task_type=\"retrieval_document\")"
   ]
  },
  {
   "cell_type": "code",
   "execution_count": 8,
   "id": "ad2e99e6",
   "metadata": {},
   "outputs": [
    {
     "data": {
      "text/plain": [
       "[-0.022807613015174866,\n",
       " 0.010274127125740051,\n",
       " 0.011706576682627201,\n",
       " -0.09699729084968567,\n",
       " -0.0027657211758196354]"
      ]
     },
     "execution_count": 8,
     "metadata": {},
     "output_type": "execute_result"
    }
   ],
   "source": [
    "vector = embeddings.embed_query(\"hello, world!\")\n",
    "vector[:5]"
   ]
  },
  {
   "cell_type": "code",
   "execution_count": 14,
   "id": "af7da699",
   "metadata": {},
   "outputs": [
    {
     "data": {
      "text/plain": [
       "3072"
      ]
     },
     "execution_count": 14,
     "metadata": {},
     "output_type": "execute_result"
    }
   ],
   "source": [
    "len(vector)"
   ]
  },
  {
   "cell_type": "markdown",
   "id": "1e8af62d",
   "metadata": {},
   "source": [
    "## Embedding the document chunks"
   ]
  },
  {
   "cell_type": "code",
   "execution_count": 9,
   "id": "2eccaf6c",
   "metadata": {},
   "outputs": [
    {
     "data": {
      "text/plain": [
       "[Document(metadata={'producer': 'Microsoft® Word 2016', 'creator': 'Microsoft® Word 2016', 'creationdate': '2025-04-15T09:48:47+05:30', 'author': 'Kannan D', 'keywords': 'PUBLIC -', 'moddate': '2025-04-15T09:48:47+05:30', 'source': 'Swapnil Ransing Machine Learning Resume.pdf', 'total_pages': 2, 'page': 0, 'page_label': '1'}, page_content=\"PUBLIC \\nSwapnil Ranshing           \\uf028: +91- 836 974 6859 \\nData Scientist , Western Union, Pune, India             E-Mail: swapnilransing001@gmail.com \\nPortfolio Website:  Swapnil's Portfolio Website                                             LinkedIn Profile:  Swapnil's LinkedIn Profile  \\nSummary   \\no 7.5 years of expertise in machine learning, deep learning, natural language processing (NLP), GenAI, model \\ndevelopment and deployment for fraud and credit risk detection and payment fraud risk strategy development \\no Postgraduate degree from IIT Bombay and (Elite Silver) certificate for Data Science for Engineers from IIT Madras  \\nand certificate for Deep Learning specialization from DeepLearning.AI and Coursera \\nSkills Summary   \\no Machine Learning and Deep Learning Models:  Supervised and Unsupervised Learning, Ensemble Methods, \\nDecision Trees, Random Forest, XGBoost, Deep Learning, Neural Networks, CNN, RNN, optimization algorithms \\no Advanced Models: Large Language Models (LLM), Generative AI \\no Languages: Python, SQL \\no Data Analysis: Data Wrangling, Feature Engineering, Data Visualization, Statistical Analysis \\no Frameworks: Sci-kit Learn, TensorFlow, Keras \\no Tools: AWS SageMaker, Power BI, Git, GitHub \\nWork Experience  \\n  \\nWestern Union Technology Engineering Center- Pune                                 (Apr 2022- Present) \\n\\uf0b7 Data Scientist, Digital Risk Decision Sciences  \\no Responsibilities: Machine learning model and strategy development for Fraudulent transaction detection \\no Projects: \\n\\uf0b7 Machine Learning Model and Risk Strategy Development for Fraudulent Transaction Detection \\nI. Developed and deployed 10 models on highly imbalanced fraud data for various customer segments \\nII. Featurization and EDA: Created around 700 features consisting of velocity, age, count, decay , categorical \\nand rating variables from large dataset. EDA is performed to understand the features correlation with target.  \\nIII. Feature Selection: Small set of important features selected using weight of evidence and Information value, \\nforward feature selection, correlation coefficient and vote counts from different ml models feature importance. \\nIV. Modeling: Tuned hyperparameter of machine learning and deep learning algorithm s and selected best \\nperforming model using AWS sagemaker studio processing job. \\nV. Risk Strategy Development and Deployment:  Risk scorecard developed using model probability distribution \\nand risk optimization strategies are developed and productionized to improve risk metrics. \\nVI. Results: Challenger models gave 30% additional fraud capture rate  than champion at 20% operating range , \\n20% improved PR AUC and 3% lift in customer acquisition with reduced chargebacks in production. \\n \\n\\uf0b7 NLP and Deep Learning Model Development \\nI. Developed NLP application to effectively assist manual review team for transaction review decision. \\nII. Developed auto encoder anomaly detection model which increased new customer acquisition by 10%. \\n \\n\\uf0b7 Data Analysis, Dashboard Development for portfolio improvement \\nI. Developed 12 Power Bi dashboards which resulted in quicker data analysis, improved decision for customer \\nacquisition campaigns, KPI/model monitoring, fraud pattern, processor change, product updates etc. \\nII. Improved customer approval by 200 bps and reduced chargebakcs by 20 bps by implementing risk strategies. \\n \\n\\uf0b7 Clustering model - Customer Segmentation (Winner of the Innovation Contest, DRDS, WU – 2023) \\nI. Developed 8 clustering models on entire digital transaction data which defined high fraud capture segments \\nII. Results shown 18 bps faster funds payout, 3% additional fraud capture and 20 bps reduced manual review\"),\n",
       " Document(metadata={'producer': 'Microsoft® Word 2016', 'creator': 'Microsoft® Word 2016', 'creationdate': '2025-04-15T09:48:47+05:30', 'author': 'Kannan D', 'keywords': 'PUBLIC -', 'moddate': '2025-04-15T09:48:47+05:30', 'source': 'Swapnil Ransing Machine Learning Resume.pdf', 'total_pages': 2, 'page': 1, 'page_label': '2'}, page_content='PUBLIC \\nDanfoss India Technical Center- Pune (Service Continuity)                          (Aug 2021- Apr 2022)                                                                                   \\nEaton India Innovation Center- Pune              (Aug 2017- Jul 2021)                     \\n\\uf0b7 Senior Engineer, Center for digital prototyping and twins \\no Projects: \\n\\uf0b7 Regression Machine Learning Model for Coupled Electric Motor Pump Product                                     \\nOptimized power loss and noise using regression algorithm and achieved 0.94 coefficient of determination value  \\n\\uf0b7 Excavator System Design  (Article: Excavator Inauguration)                      \\nEstimated models output within six sigma by tuning control parameters and achieved 90% lab test conformity. \\nPortfolio Projects \\n(Portfolio Link)\\n  \\n  \\n\\uf0b7 Predicting Clients Loan Repayment Ability (GitHub Link) (Kaggle Problem Statement Link) \\nI. EDA and Featurization: EDA is performed to understand variables correlation with target. Created around 1770  \\nfeatures consisting of velocity, age, count, decay, categorical variables from provided datasets.  \\nII. Feature Selection : Small set of important features selected using weight of evidence and Information value, \\nforward feature selection and count of votes from different ml models feature importance. \\nIII. Modeling and Results: Hyperparameter tuned machine learning and deep learning algorithms. Achieved 76% ROC \\nAUC with LightGBM model which captured 53% defaulters at 20% operating range. \\nIV. Risk Strategy Scorecard Development:  Risk scorecard developed using PDO calibration method. \\n \\n\\uf0b7 NLP - Question Pair Similarity (GitHub Link) (Kaggle Problem Statement) \\nI. Features consisting of TFIDF weighted WORD2VEC, word count arithmetic and fuzzy logic were created. \\nII. Modeling and Results: Hyperparameter tuned machine learning and deep learning algorithms. Achieved accuracy= \\n75.39%, F1-score= 0.67 and log loss=8.87 with XGBoost model. \\n \\n\\uf0b7 NLP - Multiclass Classification (GitHub Link) (Kaggle Problem Statement) \\nI. Malware byte and asm files featurized using unigrams, bigrams and image intensity. \\nII. Modeling and Results: Hyperparameter tuned machine learning and deep learning algorithms. Achieved 0.014719 \\noot log loss and 0.368% misclassification with XGBoost model.  \\n \\n\\uf0b7 Chatbot Development Using Langchain (GitHub Link) (Chatbot link) \\nI. Developed LLM project to answer EPFO questions using google palm, huggingface embedding, FAISS database \\nand prompt template. \\nII. A question asked to the retrieval chain finds the similar questions from the vector database and produces the answer  \\n \\n\\uf0b7 Time Series Forecasting Using LSTM – Stock Price Prediction (GitHub Link) \\nI. Created features using technical indicators and generated time series data using Keras time series generator. \\nII. Trained data using sequential LSTM model and predicted on test data with 16.9 MAE. \\nEducation Qualification \\nExamination University/Board Institute Year  CPI/ % \\nM.Tech. (Mechanical Engg.) IIT Bombay IIT Bombay, India 2017 9.31 \\nB.Tech. (Mechanical Engg.) Pune University VIT, Pune, India 2013 9.1 \\nCertifications \\n\\uf026Deep Learning Specialization          \\uf026Data Science for Engineers      \\uf026Programming, Data Structure and Algorithms  \\n\\uf026Amazon Web Services Machine Learning Essential Training               \\uf026Learning Amazon SageMaker \\n\\uf026Power BI Data Modeling with DAX   \\uf026Power BI A-Z: Hands-On Power BI For Data Science!  \\uf026DFSS GB')]"
      ]
     },
     "execution_count": 9,
     "metadata": {},
     "output_type": "execute_result"
    }
   ],
   "source": [
    "# pdf loader\n",
    "from langchain_community.document_loaders import PyPDFLoader\n",
    "\n",
    "loader=PyPDFLoader(\"Swapnil Ransing Machine Learning Resume.pdf\")\n",
    "text_doc=loader.load()\n",
    "text_doc"
   ]
  },
  {
   "cell_type": "code",
   "execution_count": 10,
   "id": "23832b38",
   "metadata": {},
   "outputs": [
    {
     "data": {
      "text/plain": [
       "Document(metadata={'producer': 'Microsoft® Word 2016', 'creator': 'Microsoft® Word 2016', 'creationdate': '2025-04-15T09:48:47+05:30', 'author': 'Kannan D', 'keywords': 'PUBLIC -', 'moddate': '2025-04-15T09:48:47+05:30', 'source': 'Swapnil Ransing Machine Learning Resume.pdf', 'total_pages': 2, 'page': 0, 'page_label': '1'}, page_content=\"PUBLIC \\nSwapnil Ranshing           \\uf028: +91- 836 974 6859 \\nData Scientist , Western Union, Pune, India             E-Mail: swapnilransing001@gmail.com \\nPortfolio Website:  Swapnil's Portfolio Website                                             LinkedIn Profile:  Swapnil's LinkedIn Profile  \\nSummary   \\no 7.5 years of expertise in machine learning, deep learning, natural language processing (NLP), GenAI, model \\ndevelopment and deployment for fraud and credit risk detection and payment fraud risk strategy development \\no Postgraduate degree from IIT Bombay and (Elite Silver) certificate for Data Science for Engineers from IIT Madras  \\nand certificate for Deep Learning specialization from DeepLearning.AI and Coursera \\nSkills Summary   \\no Machine Learning and Deep Learning Models:  Supervised and Unsupervised Learning, Ensemble Methods, \\nDecision Trees, Random Forest, XGBoost, Deep Learning, Neural Networks, CNN, RNN, optimization algorithms \\no Advanced Models: Large Language Models (LLM), Generative AI \\no Languages: Python, SQL \\no Data Analysis: Data Wrangling, Feature Engineering, Data Visualization, Statistical Analysis \\no Frameworks: Sci-kit Learn, TensorFlow, Keras \\no Tools: AWS SageMaker, Power BI, Git, GitHub \\nWork Experience  \\n  \\nWestern Union Technology Engineering Center- Pune                                 (Apr 2022- Present) \\n\\uf0b7 Data Scientist, Digital Risk Decision Sciences  \\no Responsibilities: Machine learning model and strategy development for Fraudulent transaction detection \\no Projects: \\n\\uf0b7 Machine Learning Model and Risk Strategy Development for Fraudulent Transaction Detection \\nI. Developed and deployed 10 models on highly imbalanced fraud data for various customer segments \\nII. Featurization and EDA: Created around 700 features consisting of velocity, age, count, decay , categorical \\nand rating variables from large dataset. EDA is performed to understand the features correlation with target.  \\nIII. Feature Selection: Small set of important features selected using weight of evidence and Information value, \\nforward feature selection, correlation coefficient and vote counts from different ml models feature importance. \\nIV. Modeling: Tuned hyperparameter of machine learning and deep learning algorithm s and selected best \\nperforming model using AWS sagemaker studio processing job. \\nV. Risk Strategy Development and Deployment:  Risk scorecard developed using model probability distribution \\nand risk optimization strategies are developed and productionized to improve risk metrics. \\nVI. Results: Challenger models gave 30% additional fraud capture rate  than champion at 20% operating range , \\n20% improved PR AUC and 3% lift in customer acquisition with reduced chargebacks in production. \\n \\n\\uf0b7 NLP and Deep Learning Model Development \\nI. Developed NLP application to effectively assist manual review team for transaction review decision. \\nII. Developed auto encoder anomaly detection model which increased new customer acquisition by 10%. \\n \\n\\uf0b7 Data Analysis, Dashboard Development for portfolio improvement \\nI. Developed 12 Power Bi dashboards which resulted in quicker data analysis, improved decision for customer \\nacquisition campaigns, KPI/model monitoring, fraud pattern, processor change, product updates etc. \\nII. Improved customer approval by 200 bps and reduced chargebakcs by 20 bps by implementing risk strategies. \\n \\n\\uf0b7 Clustering model - Customer Segmentation (Winner of the Innovation Contest, DRDS, WU – 2023) \\nI. Developed 8 clustering models on entire digital transaction data which defined high fraud capture segments \\nII. Results shown 18 bps faster funds payout, 3% additional fraud capture and 20 bps reduced manual review\")"
      ]
     },
     "execution_count": 10,
     "metadata": {},
     "output_type": "execute_result"
    }
   ],
   "source": [
    "text_doc[0]"
   ]
  },
  {
   "cell_type": "code",
   "execution_count": 11,
   "id": "c393ae52",
   "metadata": {},
   "outputs": [],
   "source": [
    "# 1. Recursive character text splitter\n",
    "from langchain_text_splitters import RecursiveCharacterTextSplitter\n",
    "text_splitter=RecursiveCharacterTextSplitter(chunk_size=1000,chunk_overlap=200)\n",
    "final_docs= text_splitter.split_documents(text_doc)"
   ]
  },
  {
   "cell_type": "code",
   "execution_count": 12,
   "id": "e40dba57",
   "metadata": {},
   "outputs": [
    {
     "data": {
      "text/plain": [
       "[Document(metadata={'producer': 'Microsoft® Word 2016', 'creator': 'Microsoft® Word 2016', 'creationdate': '2025-04-15T09:48:47+05:30', 'author': 'Kannan D', 'keywords': 'PUBLIC -', 'moddate': '2025-04-15T09:48:47+05:30', 'source': 'Swapnil Ransing Machine Learning Resume.pdf', 'total_pages': 2, 'page': 0, 'page_label': '1'}, page_content=\"PUBLIC \\nSwapnil Ranshing           \\uf028: +91- 836 974 6859 \\nData Scientist , Western Union, Pune, India             E-Mail: swapnilransing001@gmail.com \\nPortfolio Website:  Swapnil's Portfolio Website                                             LinkedIn Profile:  Swapnil's LinkedIn Profile  \\nSummary   \\no 7.5 years of expertise in machine learning, deep learning, natural language processing (NLP), GenAI, model \\ndevelopment and deployment for fraud and credit risk detection and payment fraud risk strategy development \\no Postgraduate degree from IIT Bombay and (Elite Silver) certificate for Data Science for Engineers from IIT Madras  \\nand certificate for Deep Learning specialization from DeepLearning.AI and Coursera \\nSkills Summary   \\no Machine Learning and Deep Learning Models:  Supervised and Unsupervised Learning, Ensemble Methods, \\nDecision Trees, Random Forest, XGBoost, Deep Learning, Neural Networks, CNN, RNN, optimization algorithms\"),\n",
       " Document(metadata={'producer': 'Microsoft® Word 2016', 'creator': 'Microsoft® Word 2016', 'creationdate': '2025-04-15T09:48:47+05:30', 'author': 'Kannan D', 'keywords': 'PUBLIC -', 'moddate': '2025-04-15T09:48:47+05:30', 'source': 'Swapnil Ransing Machine Learning Resume.pdf', 'total_pages': 2, 'page': 0, 'page_label': '1'}, page_content='Decision Trees, Random Forest, XGBoost, Deep Learning, Neural Networks, CNN, RNN, optimization algorithms \\no Advanced Models: Large Language Models (LLM), Generative AI \\no Languages: Python, SQL \\no Data Analysis: Data Wrangling, Feature Engineering, Data Visualization, Statistical Analysis \\no Frameworks: Sci-kit Learn, TensorFlow, Keras \\no Tools: AWS SageMaker, Power BI, Git, GitHub \\nWork Experience  \\n  \\nWestern Union Technology Engineering Center- Pune                                 (Apr 2022- Present) \\n\\uf0b7 Data Scientist, Digital Risk Decision Sciences  \\no Responsibilities: Machine learning model and strategy development for Fraudulent transaction detection \\no Projects: \\n\\uf0b7 Machine Learning Model and Risk Strategy Development for Fraudulent Transaction Detection \\nI. Developed and deployed 10 models on highly imbalanced fraud data for various customer segments \\nII. Featurization and EDA: Created around 700 features consisting of velocity, age, count, decay , categorical'),\n",
       " Document(metadata={'producer': 'Microsoft® Word 2016', 'creator': 'Microsoft® Word 2016', 'creationdate': '2025-04-15T09:48:47+05:30', 'author': 'Kannan D', 'keywords': 'PUBLIC -', 'moddate': '2025-04-15T09:48:47+05:30', 'source': 'Swapnil Ransing Machine Learning Resume.pdf', 'total_pages': 2, 'page': 0, 'page_label': '1'}, page_content='II. Featurization and EDA: Created around 700 features consisting of velocity, age, count, decay , categorical \\nand rating variables from large dataset. EDA is performed to understand the features correlation with target.  \\nIII. Feature Selection: Small set of important features selected using weight of evidence and Information value, \\nforward feature selection, correlation coefficient and vote counts from different ml models feature importance. \\nIV. Modeling: Tuned hyperparameter of machine learning and deep learning algorithm s and selected best \\nperforming model using AWS sagemaker studio processing job. \\nV. Risk Strategy Development and Deployment:  Risk scorecard developed using model probability distribution \\nand risk optimization strategies are developed and productionized to improve risk metrics. \\nVI. Results: Challenger models gave 30% additional fraud capture rate  than champion at 20% operating range ,'),\n",
       " Document(metadata={'producer': 'Microsoft® Word 2016', 'creator': 'Microsoft® Word 2016', 'creationdate': '2025-04-15T09:48:47+05:30', 'author': 'Kannan D', 'keywords': 'PUBLIC -', 'moddate': '2025-04-15T09:48:47+05:30', 'source': 'Swapnil Ransing Machine Learning Resume.pdf', 'total_pages': 2, 'page': 0, 'page_label': '1'}, page_content='VI. Results: Challenger models gave 30% additional fraud capture rate  than champion at 20% operating range , \\n20% improved PR AUC and 3% lift in customer acquisition with reduced chargebacks in production. \\n \\n\\uf0b7 NLP and Deep Learning Model Development \\nI. Developed NLP application to effectively assist manual review team for transaction review decision. \\nII. Developed auto encoder anomaly detection model which increased new customer acquisition by 10%. \\n \\n\\uf0b7 Data Analysis, Dashboard Development for portfolio improvement \\nI. Developed 12 Power Bi dashboards which resulted in quicker data analysis, improved decision for customer \\nacquisition campaigns, KPI/model monitoring, fraud pattern, processor change, product updates etc. \\nII. Improved customer approval by 200 bps and reduced chargebakcs by 20 bps by implementing risk strategies. \\n \\n\\uf0b7 Clustering model - Customer Segmentation (Winner of the Innovation Contest, DRDS, WU – 2023)'),\n",
       " Document(metadata={'producer': 'Microsoft® Word 2016', 'creator': 'Microsoft® Word 2016', 'creationdate': '2025-04-15T09:48:47+05:30', 'author': 'Kannan D', 'keywords': 'PUBLIC -', 'moddate': '2025-04-15T09:48:47+05:30', 'source': 'Swapnil Ransing Machine Learning Resume.pdf', 'total_pages': 2, 'page': 0, 'page_label': '1'}, page_content='\\uf0b7 Clustering model - Customer Segmentation (Winner of the Innovation Contest, DRDS, WU – 2023) \\nI. Developed 8 clustering models on entire digital transaction data which defined high fraud capture segments \\nII. Results shown 18 bps faster funds payout, 3% additional fraud capture and 20 bps reduced manual review'),\n",
       " Document(metadata={'producer': 'Microsoft® Word 2016', 'creator': 'Microsoft® Word 2016', 'creationdate': '2025-04-15T09:48:47+05:30', 'author': 'Kannan D', 'keywords': 'PUBLIC -', 'moddate': '2025-04-15T09:48:47+05:30', 'source': 'Swapnil Ransing Machine Learning Resume.pdf', 'total_pages': 2, 'page': 1, 'page_label': '2'}, page_content='PUBLIC \\nDanfoss India Technical Center- Pune (Service Continuity)                          (Aug 2021- Apr 2022)                                                                                   \\nEaton India Innovation Center- Pune              (Aug 2017- Jul 2021)                     \\n\\uf0b7 Senior Engineer, Center for digital prototyping and twins \\no Projects: \\n\\uf0b7 Regression Machine Learning Model for Coupled Electric Motor Pump Product                                     \\nOptimized power loss and noise using regression algorithm and achieved 0.94 coefficient of determination value  \\n\\uf0b7 Excavator System Design  (Article: Excavator Inauguration)                      \\nEstimated models output within six sigma by tuning control parameters and achieved 90% lab test conformity. \\nPortfolio Projects \\n(Portfolio Link)\\n  \\n  \\n\\uf0b7 Predicting Clients Loan Repayment Ability (GitHub Link) (Kaggle Problem Statement Link)'),\n",
       " Document(metadata={'producer': 'Microsoft® Word 2016', 'creator': 'Microsoft® Word 2016', 'creationdate': '2025-04-15T09:48:47+05:30', 'author': 'Kannan D', 'keywords': 'PUBLIC -', 'moddate': '2025-04-15T09:48:47+05:30', 'source': 'Swapnil Ransing Machine Learning Resume.pdf', 'total_pages': 2, 'page': 1, 'page_label': '2'}, page_content='Portfolio Projects \\n(Portfolio Link)\\n  \\n  \\n\\uf0b7 Predicting Clients Loan Repayment Ability (GitHub Link) (Kaggle Problem Statement Link) \\nI. EDA and Featurization: EDA is performed to understand variables correlation with target. Created around 1770  \\nfeatures consisting of velocity, age, count, decay, categorical variables from provided datasets.  \\nII. Feature Selection : Small set of important features selected using weight of evidence and Information value, \\nforward feature selection and count of votes from different ml models feature importance. \\nIII. Modeling and Results: Hyperparameter tuned machine learning and deep learning algorithms. Achieved 76% ROC \\nAUC with LightGBM model which captured 53% defaulters at 20% operating range. \\nIV. Risk Strategy Scorecard Development:  Risk scorecard developed using PDO calibration method. \\n \\n\\uf0b7 NLP - Question Pair Similarity (GitHub Link) (Kaggle Problem Statement)'),\n",
       " Document(metadata={'producer': 'Microsoft® Word 2016', 'creator': 'Microsoft® Word 2016', 'creationdate': '2025-04-15T09:48:47+05:30', 'author': 'Kannan D', 'keywords': 'PUBLIC -', 'moddate': '2025-04-15T09:48:47+05:30', 'source': 'Swapnil Ransing Machine Learning Resume.pdf', 'total_pages': 2, 'page': 1, 'page_label': '2'}, page_content='IV. Risk Strategy Scorecard Development:  Risk scorecard developed using PDO calibration method. \\n \\n\\uf0b7 NLP - Question Pair Similarity (GitHub Link) (Kaggle Problem Statement) \\nI. Features consisting of TFIDF weighted WORD2VEC, word count arithmetic and fuzzy logic were created. \\nII. Modeling and Results: Hyperparameter tuned machine learning and deep learning algorithms. Achieved accuracy= \\n75.39%, F1-score= 0.67 and log loss=8.87 with XGBoost model. \\n \\n\\uf0b7 NLP - Multiclass Classification (GitHub Link) (Kaggle Problem Statement) \\nI. Malware byte and asm files featurized using unigrams, bigrams and image intensity. \\nII. Modeling and Results: Hyperparameter tuned machine learning and deep learning algorithms. Achieved 0.014719 \\noot log loss and 0.368% misclassification with XGBoost model.  \\n \\n\\uf0b7 Chatbot Development Using Langchain (GitHub Link) (Chatbot link) \\nI. Developed LLM project to answer EPFO questions using google palm, huggingface embedding, FAISS database \\nand prompt template.'),\n",
       " Document(metadata={'producer': 'Microsoft® Word 2016', 'creator': 'Microsoft® Word 2016', 'creationdate': '2025-04-15T09:48:47+05:30', 'author': 'Kannan D', 'keywords': 'PUBLIC -', 'moddate': '2025-04-15T09:48:47+05:30', 'source': 'Swapnil Ransing Machine Learning Resume.pdf', 'total_pages': 2, 'page': 1, 'page_label': '2'}, page_content='\\uf0b7 Chatbot Development Using Langchain (GitHub Link) (Chatbot link) \\nI. Developed LLM project to answer EPFO questions using google palm, huggingface embedding, FAISS database \\nand prompt template. \\nII. A question asked to the retrieval chain finds the similar questions from the vector database and produces the answer  \\n \\n\\uf0b7 Time Series Forecasting Using LSTM – Stock Price Prediction (GitHub Link) \\nI. Created features using technical indicators and generated time series data using Keras time series generator. \\nII. Trained data using sequential LSTM model and predicted on test data with 16.9 MAE. \\nEducation Qualification \\nExamination University/Board Institute Year  CPI/ % \\nM.Tech. (Mechanical Engg.) IIT Bombay IIT Bombay, India 2017 9.31 \\nB.Tech. (Mechanical Engg.) Pune University VIT, Pune, India 2013 9.1 \\nCertifications \\n\\uf026Deep Learning Specialization          \\uf026Data Science for Engineers      \\uf026Programming, Data Structure and Algorithms'),\n",
       " Document(metadata={'producer': 'Microsoft® Word 2016', 'creator': 'Microsoft® Word 2016', 'creationdate': '2025-04-15T09:48:47+05:30', 'author': 'Kannan D', 'keywords': 'PUBLIC -', 'moddate': '2025-04-15T09:48:47+05:30', 'source': 'Swapnil Ransing Machine Learning Resume.pdf', 'total_pages': 2, 'page': 1, 'page_label': '2'}, page_content='Certifications \\n\\uf026Deep Learning Specialization          \\uf026Data Science for Engineers      \\uf026Programming, Data Structure and Algorithms  \\n\\uf026Amazon Web Services Machine Learning Essential Training               \\uf026Learning Amazon SageMaker \\n\\uf026Power BI Data Modeling with DAX   \\uf026Power BI A-Z: Hands-On Power BI For Data Science!  \\uf026DFSS GB')]"
      ]
     },
     "execution_count": 12,
     "metadata": {},
     "output_type": "execute_result"
    }
   ],
   "source": [
    "final_docs"
   ]
  },
  {
   "cell_type": "code",
   "execution_count": 13,
   "id": "47f83c61",
   "metadata": {},
   "outputs": [
    {
     "name": "stdout",
     "output_type": "stream",
     "text": [
      "page_content='PUBLIC \n",
      "Swapnil Ranshing           : +91- 836 974 6859 \n",
      "Data Scientist , Western Union, Pune, India             E-Mail: swapnilransing001@gmail.com \n",
      "Portfolio Website:  Swapnil's Portfolio Website                                             LinkedIn Profile:  Swapnil's LinkedIn Profile  \n",
      "Summary   \n",
      "o 7.5 years of expertise in machine learning, deep learning, natural language processing (NLP), GenAI, model \n",
      "development and deployment for fraud and credit risk detection and payment fraud risk strategy development \n",
      "o Postgraduate degree from IIT Bombay and (Elite Silver) certificate for Data Science for Engineers from IIT Madras  \n",
      "and certificate for Deep Learning specialization from DeepLearning.AI and Coursera \n",
      "Skills Summary   \n",
      "o Machine Learning and Deep Learning Models:  Supervised and Unsupervised Learning, Ensemble Methods, \n",
      "Decision Trees, Random Forest, XGBoost, Deep Learning, Neural Networks, CNN, RNN, optimization algorithms' metadata={'producer': 'Microsoft® Word 2016', 'creator': 'Microsoft® Word 2016', 'creationdate': '2025-04-15T09:48:47+05:30', 'author': 'Kannan D', 'keywords': 'PUBLIC -', 'moddate': '2025-04-15T09:48:47+05:30', 'source': 'Swapnil Ransing Machine Learning Resume.pdf', 'total_pages': 2, 'page': 0, 'page_label': '1'}\n",
      "--------------------------------------------------\n",
      "page_content='Decision Trees, Random Forest, XGBoost, Deep Learning, Neural Networks, CNN, RNN, optimization algorithms \n",
      "o Advanced Models: Large Language Models (LLM), Generative AI \n",
      "o Languages: Python, SQL \n",
      "o Data Analysis: Data Wrangling, Feature Engineering, Data Visualization, Statistical Analysis \n",
      "o Frameworks: Sci-kit Learn, TensorFlow, Keras \n",
      "o Tools: AWS SageMaker, Power BI, Git, GitHub \n",
      "Work Experience  \n",
      "  \n",
      "Western Union Technology Engineering Center- Pune                                 (Apr 2022- Present) \n",
      " Data Scientist, Digital Risk Decision Sciences  \n",
      "o Responsibilities: Machine learning model and strategy development for Fraudulent transaction detection \n",
      "o Projects: \n",
      " Machine Learning Model and Risk Strategy Development for Fraudulent Transaction Detection \n",
      "I. Developed and deployed 10 models on highly imbalanced fraud data for various customer segments \n",
      "II. Featurization and EDA: Created around 700 features consisting of velocity, age, count, decay , categorical' metadata={'producer': 'Microsoft® Word 2016', 'creator': 'Microsoft® Word 2016', 'creationdate': '2025-04-15T09:48:47+05:30', 'author': 'Kannan D', 'keywords': 'PUBLIC -', 'moddate': '2025-04-15T09:48:47+05:30', 'source': 'Swapnil Ransing Machine Learning Resume.pdf', 'total_pages': 2, 'page': 0, 'page_label': '1'}\n"
     ]
    }
   ],
   "source": [
    "print(final_docs[0])\n",
    "print('-'*50)\n",
    "print(final_docs[1])"
   ]
  },
  {
   "cell_type": "code",
   "execution_count": 15,
   "id": "03a70ea9",
   "metadata": {},
   "outputs": [],
   "source": [
    "from langchain_google_genai import GoogleGenerativeAIEmbeddings"
   ]
  },
  {
   "cell_type": "code",
   "execution_count": 16,
   "id": "35bca9a3",
   "metadata": {},
   "outputs": [],
   "source": [
    "embeddings = GoogleGenerativeAIEmbeddings(model=\"models/gemini-embedding-exp-03-07\", task_type=\"retrieval_document\")"
   ]
  },
  {
   "cell_type": "code",
   "execution_count": null,
   "id": "41d99238",
   "metadata": {},
   "outputs": [],
   "source": [
    "# Example\n",
    "vectors = embeddings.embed_documents(\n",
    "    [\n",
    "        \"Today is Monday\",\n",
    "        \"Today is Tuesday\",\n",
    "        \"Today is April Fools day\",\n",
    "    ]\n",
    ")\n",
    "len(vectors), len(vectors[0])"
   ]
  },
  {
   "cell_type": "code",
   "execution_count": 24,
   "id": "896f7e3c",
   "metadata": {},
   "outputs": [
    {
     "data": {
      "text/plain": [
       "[\"PUBLIC \\nSwapnil Ranshing           \\uf028: +91- 836 974 6859 \\nData Scientist , Western Union, Pune, India             E-Mail: swapnilransing001@gmail.com \\nPortfolio Website:  Swapnil's Portfolio Website                                             LinkedIn Profile:  Swapnil's LinkedIn Profile  \\nSummary   \\no 7.5 years of expertise in machine learning, deep learning, natural language processing (NLP), GenAI, model \\ndevelopment and deployment for fraud and credit risk detection and payment fraud risk strategy development \\no Postgraduate degree from IIT Bombay and (Elite Silver) certificate for Data Science for Engineers from IIT Madras  \\nand certificate for Deep Learning specialization from DeepLearning.AI and Coursera \\nSkills Summary   \\no Machine Learning and Deep Learning Models:  Supervised and Unsupervised Learning, Ensemble Methods, \\nDecision Trees, Random Forest, XGBoost, Deep Learning, Neural Networks, CNN, RNN, optimization algorithms\",\n",
       " 'Decision Trees, Random Forest, XGBoost, Deep Learning, Neural Networks, CNN, RNN, optimization algorithms \\no Advanced Models: Large Language Models (LLM), Generative AI \\no Languages: Python, SQL \\no Data Analysis: Data Wrangling, Feature Engineering, Data Visualization, Statistical Analysis \\no Frameworks: Sci-kit Learn, TensorFlow, Keras \\no Tools: AWS SageMaker, Power BI, Git, GitHub \\nWork Experience  \\n  \\nWestern Union Technology Engineering Center- Pune                                 (Apr 2022- Present) \\n\\uf0b7 Data Scientist, Digital Risk Decision Sciences  \\no Responsibilities: Machine learning model and strategy development for Fraudulent transaction detection \\no Projects: \\n\\uf0b7 Machine Learning Model and Risk Strategy Development for Fraudulent Transaction Detection \\nI. Developed and deployed 10 models on highly imbalanced fraud data for various customer segments \\nII. Featurization and EDA: Created around 700 features consisting of velocity, age, count, decay , categorical',\n",
       " 'II. Featurization and EDA: Created around 700 features consisting of velocity, age, count, decay , categorical \\nand rating variables from large dataset. EDA is performed to understand the features correlation with target.  \\nIII. Feature Selection: Small set of important features selected using weight of evidence and Information value, \\nforward feature selection, correlation coefficient and vote counts from different ml models feature importance. \\nIV. Modeling: Tuned hyperparameter of machine learning and deep learning algorithm s and selected best \\nperforming model using AWS sagemaker studio processing job. \\nV. Risk Strategy Development and Deployment:  Risk scorecard developed using model probability distribution \\nand risk optimization strategies are developed and productionized to improve risk metrics. \\nVI. Results: Challenger models gave 30% additional fraud capture rate  than champion at 20% operating range ,',\n",
       " 'VI. Results: Challenger models gave 30% additional fraud capture rate  than champion at 20% operating range , \\n20% improved PR AUC and 3% lift in customer acquisition with reduced chargebacks in production. \\n \\n\\uf0b7 NLP and Deep Learning Model Development \\nI. Developed NLP application to effectively assist manual review team for transaction review decision. \\nII. Developed auto encoder anomaly detection model which increased new customer acquisition by 10%. \\n \\n\\uf0b7 Data Analysis, Dashboard Development for portfolio improvement \\nI. Developed 12 Power Bi dashboards which resulted in quicker data analysis, improved decision for customer \\nacquisition campaigns, KPI/model monitoring, fraud pattern, processor change, product updates etc. \\nII. Improved customer approval by 200 bps and reduced chargebakcs by 20 bps by implementing risk strategies. \\n \\n\\uf0b7 Clustering model - Customer Segmentation (Winner of the Innovation Contest, DRDS, WU – 2023)',\n",
       " '\\uf0b7 Clustering model - Customer Segmentation (Winner of the Innovation Contest, DRDS, WU – 2023) \\nI. Developed 8 clustering models on entire digital transaction data which defined high fraud capture segments \\nII. Results shown 18 bps faster funds payout, 3% additional fraud capture and 20 bps reduced manual review',\n",
       " 'PUBLIC \\nDanfoss India Technical Center- Pune (Service Continuity)                          (Aug 2021- Apr 2022)                                                                                   \\nEaton India Innovation Center- Pune              (Aug 2017- Jul 2021)                     \\n\\uf0b7 Senior Engineer, Center for digital prototyping and twins \\no Projects: \\n\\uf0b7 Regression Machine Learning Model for Coupled Electric Motor Pump Product                                     \\nOptimized power loss and noise using regression algorithm and achieved 0.94 coefficient of determination value  \\n\\uf0b7 Excavator System Design  (Article: Excavator Inauguration)                      \\nEstimated models output within six sigma by tuning control parameters and achieved 90% lab test conformity. \\nPortfolio Projects \\n(Portfolio Link)\\n  \\n  \\n\\uf0b7 Predicting Clients Loan Repayment Ability (GitHub Link) (Kaggle Problem Statement Link)',\n",
       " 'Portfolio Projects \\n(Portfolio Link)\\n  \\n  \\n\\uf0b7 Predicting Clients Loan Repayment Ability (GitHub Link) (Kaggle Problem Statement Link) \\nI. EDA and Featurization: EDA is performed to understand variables correlation with target. Created around 1770  \\nfeatures consisting of velocity, age, count, decay, categorical variables from provided datasets.  \\nII. Feature Selection : Small set of important features selected using weight of evidence and Information value, \\nforward feature selection and count of votes from different ml models feature importance. \\nIII. Modeling and Results: Hyperparameter tuned machine learning and deep learning algorithms. Achieved 76% ROC \\nAUC with LightGBM model which captured 53% defaulters at 20% operating range. \\nIV. Risk Strategy Scorecard Development:  Risk scorecard developed using PDO calibration method. \\n \\n\\uf0b7 NLP - Question Pair Similarity (GitHub Link) (Kaggle Problem Statement)',\n",
       " 'IV. Risk Strategy Scorecard Development:  Risk scorecard developed using PDO calibration method. \\n \\n\\uf0b7 NLP - Question Pair Similarity (GitHub Link) (Kaggle Problem Statement) \\nI. Features consisting of TFIDF weighted WORD2VEC, word count arithmetic and fuzzy logic were created. \\nII. Modeling and Results: Hyperparameter tuned machine learning and deep learning algorithms. Achieved accuracy= \\n75.39%, F1-score= 0.67 and log loss=8.87 with XGBoost model. \\n \\n\\uf0b7 NLP - Multiclass Classification (GitHub Link) (Kaggle Problem Statement) \\nI. Malware byte and asm files featurized using unigrams, bigrams and image intensity. \\nII. Modeling and Results: Hyperparameter tuned machine learning and deep learning algorithms. Achieved 0.014719 \\noot log loss and 0.368% misclassification with XGBoost model.  \\n \\n\\uf0b7 Chatbot Development Using Langchain (GitHub Link) (Chatbot link) \\nI. Developed LLM project to answer EPFO questions using google palm, huggingface embedding, FAISS database \\nand prompt template.',\n",
       " '\\uf0b7 Chatbot Development Using Langchain (GitHub Link) (Chatbot link) \\nI. Developed LLM project to answer EPFO questions using google palm, huggingface embedding, FAISS database \\nand prompt template. \\nII. A question asked to the retrieval chain finds the similar questions from the vector database and produces the answer  \\n \\n\\uf0b7 Time Series Forecasting Using LSTM – Stock Price Prediction (GitHub Link) \\nI. Created features using technical indicators and generated time series data using Keras time series generator. \\nII. Trained data using sequential LSTM model and predicted on test data with 16.9 MAE. \\nEducation Qualification \\nExamination University/Board Institute Year  CPI/ % \\nM.Tech. (Mechanical Engg.) IIT Bombay IIT Bombay, India 2017 9.31 \\nB.Tech. (Mechanical Engg.) Pune University VIT, Pune, India 2013 9.1 \\nCertifications \\n\\uf026Deep Learning Specialization          \\uf026Data Science for Engineers      \\uf026Programming, Data Structure and Algorithms',\n",
       " 'Certifications \\n\\uf026Deep Learning Specialization          \\uf026Data Science for Engineers      \\uf026Programming, Data Structure and Algorithms  \\n\\uf026Amazon Web Services Machine Learning Essential Training               \\uf026Learning Amazon SageMaker \\n\\uf026Power BI Data Modeling with DAX   \\uf026Power BI A-Z: Hands-On Power BI For Data Science!  \\uf026DFSS GB']"
      ]
     },
     "execution_count": 24,
     "metadata": {},
     "output_type": "execute_result"
    }
   ],
   "source": [
    "[doc.page_content for doc in final_docs]"
   ]
  },
  {
   "cell_type": "code",
   "execution_count": 27,
   "id": "6ace723f",
   "metadata": {},
   "outputs": [
    {
     "data": {
      "text/plain": [
       "(2, 3072)"
      ]
     },
     "execution_count": 27,
     "metadata": {},
     "output_type": "execute_result"
    }
   ],
   "source": [
    "# Example\n",
    "vectors = embeddings.embed_documents([doc.page_content for doc in final_docs][0:2])\n",
    "len(vectors), len(vectors[0])"
   ]
  }
 ],
 "metadata": {
  "kernelspec": {
   "display_name": ".venv",
   "language": "python",
   "name": "python3"
  },
  "language_info": {
   "codemirror_mode": {
    "name": "ipython",
    "version": 3
   },
   "file_extension": ".py",
   "mimetype": "text/x-python",
   "name": "python",
   "nbconvert_exporter": "python",
   "pygments_lexer": "ipython3",
   "version": "3.10.0"
  }
 },
 "nbformat": 4,
 "nbformat_minor": 5
}
