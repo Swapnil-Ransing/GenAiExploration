{
 "cells": [
  {
   "cell_type": "code",
   "execution_count": 1,
   "id": "74f26cf8",
   "metadata": {},
   "outputs": [
    {
     "data": {
      "text/plain": [
       "True"
      ]
     },
     "execution_count": 1,
     "metadata": {},
     "output_type": "execute_result"
    }
   ],
   "source": [
    "from langchain_community.document_loaders import PyPDFLoader\n",
    "import os\n",
    "from dotenv import load_dotenv\n",
    "load_dotenv()"
   ]
  },
  {
   "cell_type": "code",
   "execution_count": 2,
   "id": "656c5d0f",
   "metadata": {},
   "outputs": [],
   "source": [
    "os.environ[\"HF_TOKEN\"] = os.getenv('huggingface_access_token')"
   ]
  },
  {
   "cell_type": "markdown",
   "id": "1e8af62d",
   "metadata": {},
   "source": [
    "## Embedding the document chunks"
   ]
  },
  {
   "cell_type": "code",
   "execution_count": 3,
   "id": "2eccaf6c",
   "metadata": {},
   "outputs": [
    {
     "data": {
      "text/plain": [
       "[Document(metadata={'producer': 'Microsoft® Word 2016', 'creator': 'Microsoft® Word 2016', 'creationdate': '2025-04-15T09:48:47+05:30', 'author': 'Kannan D', 'keywords': 'PUBLIC -', 'moddate': '2025-04-15T09:48:47+05:30', 'source': 'Swapnil Ransing Machine Learning Resume.pdf', 'total_pages': 2, 'page': 0, 'page_label': '1'}, page_content=\"PUBLIC \\nSwapnil Ranshing           \\uf028: +91- 836 974 6859 \\nData Scientist , Western Union, Pune, India             E-Mail: swapnilransing001@gmail.com \\nPortfolio Website:  Swapnil's Portfolio Website                                             LinkedIn Profile:  Swapnil's LinkedIn Profile  \\nSummary   \\no 7.5 years of expertise in machine learning, deep learning, natural language processing (NLP), GenAI, model \\ndevelopment and deployment for fraud and credit risk detection and payment fraud risk strategy development \\no Postgraduate degree from IIT Bombay and (Elite Silver) certificate for Data Science for Engineers from IIT Madras  \\nand certificate for Deep Learning specialization from DeepLearning.AI and Coursera \\nSkills Summary   \\no Machine Learning and Deep Learning Models:  Supervised and Unsupervised Learning, Ensemble Methods, \\nDecision Trees, Random Forest, XGBoost, Deep Learning, Neural Networks, CNN, RNN, optimization algorithms \\no Advanced Models: Large Language Models (LLM), Generative AI \\no Languages: Python, SQL \\no Data Analysis: Data Wrangling, Feature Engineering, Data Visualization, Statistical Analysis \\no Frameworks: Sci-kit Learn, TensorFlow, Keras \\no Tools: AWS SageMaker, Power BI, Git, GitHub \\nWork Experience  \\n  \\nWestern Union Technology Engineering Center- Pune                                 (Apr 2022- Present) \\n\\uf0b7 Data Scientist, Digital Risk Decision Sciences  \\no Responsibilities: Machine learning model and strategy development for Fraudulent transaction detection \\no Projects: \\n\\uf0b7 Machine Learning Model and Risk Strategy Development for Fraudulent Transaction Detection \\nI. Developed and deployed 10 models on highly imbalanced fraud data for various customer segments \\nII. Featurization and EDA: Created around 700 features consisting of velocity, age, count, decay , categorical \\nand rating variables from large dataset. EDA is performed to understand the features correlation with target.  \\nIII. Feature Selection: Small set of important features selected using weight of evidence and Information value, \\nforward feature selection, correlation coefficient and vote counts from different ml models feature importance. \\nIV. Modeling: Tuned hyperparameter of machine learning and deep learning algorithm s and selected best \\nperforming model using AWS sagemaker studio processing job. \\nV. Risk Strategy Development and Deployment:  Risk scorecard developed using model probability distribution \\nand risk optimization strategies are developed and productionized to improve risk metrics. \\nVI. Results: Challenger models gave 30% additional fraud capture rate  than champion at 20% operating range , \\n20% improved PR AUC and 3% lift in customer acquisition with reduced chargebacks in production. \\n \\n\\uf0b7 NLP and Deep Learning Model Development \\nI. Developed NLP application to effectively assist manual review team for transaction review decision. \\nII. Developed auto encoder anomaly detection model which increased new customer acquisition by 10%. \\n \\n\\uf0b7 Data Analysis, Dashboard Development for portfolio improvement \\nI. Developed 12 Power Bi dashboards which resulted in quicker data analysis, improved decision for customer \\nacquisition campaigns, KPI/model monitoring, fraud pattern, processor change, product updates etc. \\nII. Improved customer approval by 200 bps and reduced chargebakcs by 20 bps by implementing risk strategies. \\n \\n\\uf0b7 Clustering model - Customer Segmentation (Winner of the Innovation Contest, DRDS, WU – 2023) \\nI. Developed 8 clustering models on entire digital transaction data which defined high fraud capture segments \\nII. Results shown 18 bps faster funds payout, 3% additional fraud capture and 20 bps reduced manual review\"),\n",
       " Document(metadata={'producer': 'Microsoft® Word 2016', 'creator': 'Microsoft® Word 2016', 'creationdate': '2025-04-15T09:48:47+05:30', 'author': 'Kannan D', 'keywords': 'PUBLIC -', 'moddate': '2025-04-15T09:48:47+05:30', 'source': 'Swapnil Ransing Machine Learning Resume.pdf', 'total_pages': 2, 'page': 1, 'page_label': '2'}, page_content='PUBLIC \\nDanfoss India Technical Center- Pune (Service Continuity)                          (Aug 2021- Apr 2022)                                                                                   \\nEaton India Innovation Center- Pune              (Aug 2017- Jul 2021)                     \\n\\uf0b7 Senior Engineer, Center for digital prototyping and twins \\no Projects: \\n\\uf0b7 Regression Machine Learning Model for Coupled Electric Motor Pump Product                                     \\nOptimized power loss and noise using regression algorithm and achieved 0.94 coefficient of determination value  \\n\\uf0b7 Excavator System Design  (Article: Excavator Inauguration)                      \\nEstimated models output within six sigma by tuning control parameters and achieved 90% lab test conformity. \\nPortfolio Projects \\n(Portfolio Link)\\n  \\n  \\n\\uf0b7 Predicting Clients Loan Repayment Ability (GitHub Link) (Kaggle Problem Statement Link) \\nI. EDA and Featurization: EDA is performed to understand variables correlation with target. Created around 1770  \\nfeatures consisting of velocity, age, count, decay, categorical variables from provided datasets.  \\nII. Feature Selection : Small set of important features selected using weight of evidence and Information value, \\nforward feature selection and count of votes from different ml models feature importance. \\nIII. Modeling and Results: Hyperparameter tuned machine learning and deep learning algorithms. Achieved 76% ROC \\nAUC with LightGBM model which captured 53% defaulters at 20% operating range. \\nIV. Risk Strategy Scorecard Development:  Risk scorecard developed using PDO calibration method. \\n \\n\\uf0b7 NLP - Question Pair Similarity (GitHub Link) (Kaggle Problem Statement) \\nI. Features consisting of TFIDF weighted WORD2VEC, word count arithmetic and fuzzy logic were created. \\nII. Modeling and Results: Hyperparameter tuned machine learning and deep learning algorithms. Achieved accuracy= \\n75.39%, F1-score= 0.67 and log loss=8.87 with XGBoost model. \\n \\n\\uf0b7 NLP - Multiclass Classification (GitHub Link) (Kaggle Problem Statement) \\nI. Malware byte and asm files featurized using unigrams, bigrams and image intensity. \\nII. Modeling and Results: Hyperparameter tuned machine learning and deep learning algorithms. Achieved 0.014719 \\noot log loss and 0.368% misclassification with XGBoost model.  \\n \\n\\uf0b7 Chatbot Development Using Langchain (GitHub Link) (Chatbot link) \\nI. Developed LLM project to answer EPFO questions using google palm, huggingface embedding, FAISS database \\nand prompt template. \\nII. A question asked to the retrieval chain finds the similar questions from the vector database and produces the answer  \\n \\n\\uf0b7 Time Series Forecasting Using LSTM – Stock Price Prediction (GitHub Link) \\nI. Created features using technical indicators and generated time series data using Keras time series generator. \\nII. Trained data using sequential LSTM model and predicted on test data with 16.9 MAE. \\nEducation Qualification \\nExamination University/Board Institute Year  CPI/ % \\nM.Tech. (Mechanical Engg.) IIT Bombay IIT Bombay, India 2017 9.31 \\nB.Tech. (Mechanical Engg.) Pune University VIT, Pune, India 2013 9.1 \\nCertifications \\n\\uf026Deep Learning Specialization          \\uf026Data Science for Engineers      \\uf026Programming, Data Structure and Algorithms  \\n\\uf026Amazon Web Services Machine Learning Essential Training               \\uf026Learning Amazon SageMaker \\n\\uf026Power BI Data Modeling with DAX   \\uf026Power BI A-Z: Hands-On Power BI For Data Science!  \\uf026DFSS GB')]"
      ]
     },
     "execution_count": 3,
     "metadata": {},
     "output_type": "execute_result"
    }
   ],
   "source": [
    "# pdf loader\n",
    "loader=PyPDFLoader(\"Swapnil Ransing Machine Learning Resume.pdf\")\n",
    "text_doc=loader.load()\n",
    "text_doc"
   ]
  },
  {
   "cell_type": "code",
   "execution_count": 4,
   "id": "c393ae52",
   "metadata": {},
   "outputs": [],
   "source": [
    "# 1. Recursive character text splitter\n",
    "from langchain_text_splitters import RecursiveCharacterTextSplitter\n",
    "text_splitter=RecursiveCharacterTextSplitter(chunk_size=1000,chunk_overlap=200)\n",
    "final_docs= text_splitter.split_documents(text_doc)"
   ]
  },
  {
   "cell_type": "code",
   "execution_count": 5,
   "id": "e40dba57",
   "metadata": {},
   "outputs": [
    {
     "data": {
      "text/plain": [
       "[Document(metadata={'producer': 'Microsoft® Word 2016', 'creator': 'Microsoft® Word 2016', 'creationdate': '2025-04-15T09:48:47+05:30', 'author': 'Kannan D', 'keywords': 'PUBLIC -', 'moddate': '2025-04-15T09:48:47+05:30', 'source': 'Swapnil Ransing Machine Learning Resume.pdf', 'total_pages': 2, 'page': 0, 'page_label': '1'}, page_content=\"PUBLIC \\nSwapnil Ranshing           \\uf028: +91- 836 974 6859 \\nData Scientist , Western Union, Pune, India             E-Mail: swapnilransing001@gmail.com \\nPortfolio Website:  Swapnil's Portfolio Website                                             LinkedIn Profile:  Swapnil's LinkedIn Profile  \\nSummary   \\no 7.5 years of expertise in machine learning, deep learning, natural language processing (NLP), GenAI, model \\ndevelopment and deployment for fraud and credit risk detection and payment fraud risk strategy development \\no Postgraduate degree from IIT Bombay and (Elite Silver) certificate for Data Science for Engineers from IIT Madras  \\nand certificate for Deep Learning specialization from DeepLearning.AI and Coursera \\nSkills Summary   \\no Machine Learning and Deep Learning Models:  Supervised and Unsupervised Learning, Ensemble Methods, \\nDecision Trees, Random Forest, XGBoost, Deep Learning, Neural Networks, CNN, RNN, optimization algorithms\"),\n",
       " Document(metadata={'producer': 'Microsoft® Word 2016', 'creator': 'Microsoft® Word 2016', 'creationdate': '2025-04-15T09:48:47+05:30', 'author': 'Kannan D', 'keywords': 'PUBLIC -', 'moddate': '2025-04-15T09:48:47+05:30', 'source': 'Swapnil Ransing Machine Learning Resume.pdf', 'total_pages': 2, 'page': 0, 'page_label': '1'}, page_content='Decision Trees, Random Forest, XGBoost, Deep Learning, Neural Networks, CNN, RNN, optimization algorithms \\no Advanced Models: Large Language Models (LLM), Generative AI \\no Languages: Python, SQL \\no Data Analysis: Data Wrangling, Feature Engineering, Data Visualization, Statistical Analysis \\no Frameworks: Sci-kit Learn, TensorFlow, Keras \\no Tools: AWS SageMaker, Power BI, Git, GitHub \\nWork Experience  \\n  \\nWestern Union Technology Engineering Center- Pune                                 (Apr 2022- Present) \\n\\uf0b7 Data Scientist, Digital Risk Decision Sciences  \\no Responsibilities: Machine learning model and strategy development for Fraudulent transaction detection \\no Projects: \\n\\uf0b7 Machine Learning Model and Risk Strategy Development for Fraudulent Transaction Detection \\nI. Developed and deployed 10 models on highly imbalanced fraud data for various customer segments \\nII. Featurization and EDA: Created around 700 features consisting of velocity, age, count, decay , categorical'),\n",
       " Document(metadata={'producer': 'Microsoft® Word 2016', 'creator': 'Microsoft® Word 2016', 'creationdate': '2025-04-15T09:48:47+05:30', 'author': 'Kannan D', 'keywords': 'PUBLIC -', 'moddate': '2025-04-15T09:48:47+05:30', 'source': 'Swapnil Ransing Machine Learning Resume.pdf', 'total_pages': 2, 'page': 0, 'page_label': '1'}, page_content='II. Featurization and EDA: Created around 700 features consisting of velocity, age, count, decay , categorical \\nand rating variables from large dataset. EDA is performed to understand the features correlation with target.  \\nIII. Feature Selection: Small set of important features selected using weight of evidence and Information value, \\nforward feature selection, correlation coefficient and vote counts from different ml models feature importance. \\nIV. Modeling: Tuned hyperparameter of machine learning and deep learning algorithm s and selected best \\nperforming model using AWS sagemaker studio processing job. \\nV. Risk Strategy Development and Deployment:  Risk scorecard developed using model probability distribution \\nand risk optimization strategies are developed and productionized to improve risk metrics. \\nVI. Results: Challenger models gave 30% additional fraud capture rate  than champion at 20% operating range ,'),\n",
       " Document(metadata={'producer': 'Microsoft® Word 2016', 'creator': 'Microsoft® Word 2016', 'creationdate': '2025-04-15T09:48:47+05:30', 'author': 'Kannan D', 'keywords': 'PUBLIC -', 'moddate': '2025-04-15T09:48:47+05:30', 'source': 'Swapnil Ransing Machine Learning Resume.pdf', 'total_pages': 2, 'page': 0, 'page_label': '1'}, page_content='VI. Results: Challenger models gave 30% additional fraud capture rate  than champion at 20% operating range , \\n20% improved PR AUC and 3% lift in customer acquisition with reduced chargebacks in production. \\n \\n\\uf0b7 NLP and Deep Learning Model Development \\nI. Developed NLP application to effectively assist manual review team for transaction review decision. \\nII. Developed auto encoder anomaly detection model which increased new customer acquisition by 10%. \\n \\n\\uf0b7 Data Analysis, Dashboard Development for portfolio improvement \\nI. Developed 12 Power Bi dashboards which resulted in quicker data analysis, improved decision for customer \\nacquisition campaigns, KPI/model monitoring, fraud pattern, processor change, product updates etc. \\nII. Improved customer approval by 200 bps and reduced chargebakcs by 20 bps by implementing risk strategies. \\n \\n\\uf0b7 Clustering model - Customer Segmentation (Winner of the Innovation Contest, DRDS, WU – 2023)'),\n",
       " Document(metadata={'producer': 'Microsoft® Word 2016', 'creator': 'Microsoft® Word 2016', 'creationdate': '2025-04-15T09:48:47+05:30', 'author': 'Kannan D', 'keywords': 'PUBLIC -', 'moddate': '2025-04-15T09:48:47+05:30', 'source': 'Swapnil Ransing Machine Learning Resume.pdf', 'total_pages': 2, 'page': 0, 'page_label': '1'}, page_content='\\uf0b7 Clustering model - Customer Segmentation (Winner of the Innovation Contest, DRDS, WU – 2023) \\nI. Developed 8 clustering models on entire digital transaction data which defined high fraud capture segments \\nII. Results shown 18 bps faster funds payout, 3% additional fraud capture and 20 bps reduced manual review'),\n",
       " Document(metadata={'producer': 'Microsoft® Word 2016', 'creator': 'Microsoft® Word 2016', 'creationdate': '2025-04-15T09:48:47+05:30', 'author': 'Kannan D', 'keywords': 'PUBLIC -', 'moddate': '2025-04-15T09:48:47+05:30', 'source': 'Swapnil Ransing Machine Learning Resume.pdf', 'total_pages': 2, 'page': 1, 'page_label': '2'}, page_content='PUBLIC \\nDanfoss India Technical Center- Pune (Service Continuity)                          (Aug 2021- Apr 2022)                                                                                   \\nEaton India Innovation Center- Pune              (Aug 2017- Jul 2021)                     \\n\\uf0b7 Senior Engineer, Center for digital prototyping and twins \\no Projects: \\n\\uf0b7 Regression Machine Learning Model for Coupled Electric Motor Pump Product                                     \\nOptimized power loss and noise using regression algorithm and achieved 0.94 coefficient of determination value  \\n\\uf0b7 Excavator System Design  (Article: Excavator Inauguration)                      \\nEstimated models output within six sigma by tuning control parameters and achieved 90% lab test conformity. \\nPortfolio Projects \\n(Portfolio Link)\\n  \\n  \\n\\uf0b7 Predicting Clients Loan Repayment Ability (GitHub Link) (Kaggle Problem Statement Link)'),\n",
       " Document(metadata={'producer': 'Microsoft® Word 2016', 'creator': 'Microsoft® Word 2016', 'creationdate': '2025-04-15T09:48:47+05:30', 'author': 'Kannan D', 'keywords': 'PUBLIC -', 'moddate': '2025-04-15T09:48:47+05:30', 'source': 'Swapnil Ransing Machine Learning Resume.pdf', 'total_pages': 2, 'page': 1, 'page_label': '2'}, page_content='Portfolio Projects \\n(Portfolio Link)\\n  \\n  \\n\\uf0b7 Predicting Clients Loan Repayment Ability (GitHub Link) (Kaggle Problem Statement Link) \\nI. EDA and Featurization: EDA is performed to understand variables correlation with target. Created around 1770  \\nfeatures consisting of velocity, age, count, decay, categorical variables from provided datasets.  \\nII. Feature Selection : Small set of important features selected using weight of evidence and Information value, \\nforward feature selection and count of votes from different ml models feature importance. \\nIII. Modeling and Results: Hyperparameter tuned machine learning and deep learning algorithms. Achieved 76% ROC \\nAUC with LightGBM model which captured 53% defaulters at 20% operating range. \\nIV. Risk Strategy Scorecard Development:  Risk scorecard developed using PDO calibration method. \\n \\n\\uf0b7 NLP - Question Pair Similarity (GitHub Link) (Kaggle Problem Statement)'),\n",
       " Document(metadata={'producer': 'Microsoft® Word 2016', 'creator': 'Microsoft® Word 2016', 'creationdate': '2025-04-15T09:48:47+05:30', 'author': 'Kannan D', 'keywords': 'PUBLIC -', 'moddate': '2025-04-15T09:48:47+05:30', 'source': 'Swapnil Ransing Machine Learning Resume.pdf', 'total_pages': 2, 'page': 1, 'page_label': '2'}, page_content='IV. Risk Strategy Scorecard Development:  Risk scorecard developed using PDO calibration method. \\n \\n\\uf0b7 NLP - Question Pair Similarity (GitHub Link) (Kaggle Problem Statement) \\nI. Features consisting of TFIDF weighted WORD2VEC, word count arithmetic and fuzzy logic were created. \\nII. Modeling and Results: Hyperparameter tuned machine learning and deep learning algorithms. Achieved accuracy= \\n75.39%, F1-score= 0.67 and log loss=8.87 with XGBoost model. \\n \\n\\uf0b7 NLP - Multiclass Classification (GitHub Link) (Kaggle Problem Statement) \\nI. Malware byte and asm files featurized using unigrams, bigrams and image intensity. \\nII. Modeling and Results: Hyperparameter tuned machine learning and deep learning algorithms. Achieved 0.014719 \\noot log loss and 0.368% misclassification with XGBoost model.  \\n \\n\\uf0b7 Chatbot Development Using Langchain (GitHub Link) (Chatbot link) \\nI. Developed LLM project to answer EPFO questions using google palm, huggingface embedding, FAISS database \\nand prompt template.'),\n",
       " Document(metadata={'producer': 'Microsoft® Word 2016', 'creator': 'Microsoft® Word 2016', 'creationdate': '2025-04-15T09:48:47+05:30', 'author': 'Kannan D', 'keywords': 'PUBLIC -', 'moddate': '2025-04-15T09:48:47+05:30', 'source': 'Swapnil Ransing Machine Learning Resume.pdf', 'total_pages': 2, 'page': 1, 'page_label': '2'}, page_content='\\uf0b7 Chatbot Development Using Langchain (GitHub Link) (Chatbot link) \\nI. Developed LLM project to answer EPFO questions using google palm, huggingface embedding, FAISS database \\nand prompt template. \\nII. A question asked to the retrieval chain finds the similar questions from the vector database and produces the answer  \\n \\n\\uf0b7 Time Series Forecasting Using LSTM – Stock Price Prediction (GitHub Link) \\nI. Created features using technical indicators and generated time series data using Keras time series generator. \\nII. Trained data using sequential LSTM model and predicted on test data with 16.9 MAE. \\nEducation Qualification \\nExamination University/Board Institute Year  CPI/ % \\nM.Tech. (Mechanical Engg.) IIT Bombay IIT Bombay, India 2017 9.31 \\nB.Tech. (Mechanical Engg.) Pune University VIT, Pune, India 2013 9.1 \\nCertifications \\n\\uf026Deep Learning Specialization          \\uf026Data Science for Engineers      \\uf026Programming, Data Structure and Algorithms'),\n",
       " Document(metadata={'producer': 'Microsoft® Word 2016', 'creator': 'Microsoft® Word 2016', 'creationdate': '2025-04-15T09:48:47+05:30', 'author': 'Kannan D', 'keywords': 'PUBLIC -', 'moddate': '2025-04-15T09:48:47+05:30', 'source': 'Swapnil Ransing Machine Learning Resume.pdf', 'total_pages': 2, 'page': 1, 'page_label': '2'}, page_content='Certifications \\n\\uf026Deep Learning Specialization          \\uf026Data Science for Engineers      \\uf026Programming, Data Structure and Algorithms  \\n\\uf026Amazon Web Services Machine Learning Essential Training               \\uf026Learning Amazon SageMaker \\n\\uf026Power BI Data Modeling with DAX   \\uf026Power BI A-Z: Hands-On Power BI For Data Science!  \\uf026DFSS GB')]"
      ]
     },
     "execution_count": 5,
     "metadata": {},
     "output_type": "execute_result"
    }
   ],
   "source": [
    "final_docs"
   ]
  },
  {
   "cell_type": "code",
   "execution_count": 6,
   "id": "33822072",
   "metadata": {},
   "outputs": [],
   "source": [
    "from langchain_huggingface import HuggingFaceEmbeddings"
   ]
  },
  {
   "cell_type": "code",
   "execution_count": 7,
   "id": "35bca9a3",
   "metadata": {},
   "outputs": [
    {
     "name": "stderr",
     "output_type": "stream",
     "text": [
      "c:\\Swapnil\\GenerativeAI\\Practice_1\\.venv\\lib\\site-packages\\tqdm\\auto.py:21: TqdmWarning: IProgress not found. Please update jupyter and ipywidgets. See https://ipywidgets.readthedocs.io/en/stable/user_install.html\n",
      "  from .autonotebook import tqdm as notebook_tqdm\n",
      "c:\\Swapnil\\GenerativeAI\\Practice_1\\.venv\\lib\\site-packages\\huggingface_hub\\file_download.py:144: UserWarning: `huggingface_hub` cache-system uses symlinks by default to efficiently store duplicated files but your machine does not support them in C:\\Users\\HP\\.cache\\huggingface\\hub\\models--sentence-transformers--all-MiniLM-L6-v2. Caching files will still work but in a degraded version that might require more space on your disk. This warning can be disabled by setting the `HF_HUB_DISABLE_SYMLINKS_WARNING` environment variable. For more details, see https://huggingface.co/docs/huggingface_hub/how-to-cache#limitations.\n",
      "To support symlinks on Windows, you either need to activate Developer Mode or to run Python as an administrator. In order to activate developer mode, see this article: https://docs.microsoft.com/en-us/windows/apps/get-started/enable-your-device-for-development\n",
      "  warnings.warn(message)\n",
      "Xet Storage is enabled for this repo, but the 'hf_xet' package is not installed. Falling back to regular HTTP download. For better performance, install the package with: `pip install huggingface_hub[hf_xet]` or `pip install hf_xet`\n"
     ]
    }
   ],
   "source": [
    "embeddings = HuggingFaceEmbeddings(model_name=\"all-MiniLM-L6-v2\")"
   ]
  },
  {
   "cell_type": "code",
   "execution_count": 9,
   "id": "fa295fab",
   "metadata": {},
   "outputs": [
    {
     "name": "stdout",
     "output_type": "stream",
     "text": [
      "384\n"
     ]
    },
    {
     "data": {
      "text/plain": [
       "[0.04873047024011612,\n",
       " -0.08314689248800278,\n",
       " 0.006544511765241623,\n",
       " -0.05579417943954468,\n",
       " 0.0794186145067215,\n",
       " 0.11087480932474136,\n",
       " -0.011313962750136852,\n",
       " -0.019712213426828384,\n",
       " -0.013432033360004425,\n",
       " -0.04829490929841995,\n",
       " 0.049291547387838364,\n",
       " -0.025162629783153534,\n",
       " 0.04915113374590874,\n",
       " 0.026364466175436974,\n",
       " -0.06610440462827682,\n",
       " 0.0062797702848911285,\n",
       " 0.00686393678188324,\n",
       " 0.036496151238679886,\n",
       " -0.09391877055168152,\n",
       " -0.04180242121219635,\n",
       " -0.05692571774125099,\n",
       " 0.024389119818806648,\n",
       " 0.01502660196274519,\n",
       " -0.041693925857543945,\n",
       " -0.05230473726987839,\n",
       " -0.03944101929664612,\n",
       " 0.015179389156401157,\n",
       " 0.10276522487401962,\n",
       " 0.02751748450100422,\n",
       " -0.03890783339738846,\n",
       " 0.09030594676733017,\n",
       " -0.0012314161285758018,\n",
       " -0.0028808859642595053,\n",
       " 0.056422941386699677,\n",
       " -0.01722850278019905,\n",
       " 0.032832302153110504,\n",
       " -0.020222119987010956,\n",
       " -0.03960460051894188,\n",
       " -0.09199241548776627,\n",
       " 0.06980108469724655,\n",
       " -0.0018535766284912825,\n",
       " -0.002450160915032029,\n",
       " -0.016759399324655533,\n",
       " 0.06095992773771286,\n",
       " 0.0967600867152214,\n",
       " -0.07104925811290741,\n",
       " 0.04694583639502525,\n",
       " -0.06506342440843582,\n",
       " 0.00481388671323657,\n",
       " 0.0539037324488163,\n",
       " -0.034152302891016006,\n",
       " 0.022991135716438293,\n",
       " -0.024910438805818558,\n",
       " -0.010461273603141308,\n",
       " -0.055773284286260605,\n",
       " 0.01781928911805153,\n",
       " 0.006916148122400045,\n",
       " -0.07000348716974258,\n",
       " 0.053477879613637924,\n",
       " -0.012276946566998959,\n",
       " -0.04637521505355835,\n",
       " -0.03244079649448395,\n",
       " 0.044612448662519455,\n",
       " -0.008120788261294365,\n",
       " 0.07673539966344833,\n",
       " -0.013621554709970951,\n",
       " -0.0899030789732933,\n",
       " 0.025684436783194542,\n",
       " -0.049072619527578354,\n",
       " 0.02454718016088009,\n",
       " -0.05357891321182251,\n",
       " -0.026209650561213493,\n",
       " -0.10230501741170883,\n",
       " -0.11131367832422256,\n",
       " 0.025316527113318443,\n",
       " 0.010193901136517525,\n",
       " 0.04876351356506348,\n",
       " -0.032309845089912415,\n",
       " 0.1623999923467636,\n",
       " -0.09501796215772629,\n",
       " 0.039047546684741974,\n",
       " -0.03286808729171753,\n",
       " 0.048342861235141754,\n",
       " -0.03838558867573738,\n",
       " 0.0483386293053627,\n",
       " -0.0016832558903843164,\n",
       " 0.03446785733103752,\n",
       " -0.08134090900421143,\n",
       " -0.07534932345151901,\n",
       " -0.06796787679195404,\n",
       " 0.015335047617554665,\n",
       " -0.04816103354096413,\n",
       " -0.03470759093761444,\n",
       " 0.019014505669474602,\n",
       " -0.02247440814971924,\n",
       " -0.030882149934768677,\n",
       " 0.029397135600447655,\n",
       " 0.028814371675252914,\n",
       " -0.007560594938695431,\n",
       " 0.09740407764911652,\n",
       " -0.056671783328056335,\n",
       " -0.03848479688167572,\n",
       " 0.06460210680961609,\n",
       " 0.05377296358346939,\n",
       " 0.006101181730628014,\n",
       " -0.06089754030108452,\n",
       " -0.0274252500385046,\n",
       " 0.14205649495124817,\n",
       " -0.03951083496212959,\n",
       " -0.08860552310943604,\n",
       " -0.05367221310734749,\n",
       " 0.0402802936732769,\n",
       " -0.05386835336685181,\n",
       " 0.0006710821762681007,\n",
       " 0.04402557387948036,\n",
       " -0.10017970204353333,\n",
       " 0.08005288988351822,\n",
       " 0.004291138611733913,\n",
       " 0.003067523241043091,\n",
       " -0.06529753655195236,\n",
       " -0.009252022951841354,\n",
       " 0.04761756956577301,\n",
       " 0.041746314615011215,\n",
       " -0.03443688154220581,\n",
       " 0.005140929948538542,\n",
       " -0.07965300232172012,\n",
       " -0.055258896201848984,\n",
       " 2.5499710588929947e-33,\n",
       " 0.05922537297010422,\n",
       " 0.04943360760807991,\n",
       " 0.03921806812286377,\n",
       " 0.05951675772666931,\n",
       " -0.008344586007297039,\n",
       " -0.025205116719007492,\n",
       " -0.03435278311371803,\n",
       " 0.052213553339242935,\n",
       " 0.029761144891381264,\n",
       " 0.0017486922442913055,\n",
       " -0.042256444692611694,\n",
       " -0.005785470828413963,\n",
       " -0.038215551525354385,\n",
       " 0.06591518223285675,\n",
       " -0.03852838650345802,\n",
       " -0.0694340318441391,\n",
       " -0.03856506943702698,\n",
       " -0.00738190021365881,\n",
       " -0.030346032232046127,\n",
       " 0.04911208525300026,\n",
       " 0.026606418192386627,\n",
       " 0.05033636465668678,\n",
       " -0.010958483442664146,\n",
       " -0.0666402131319046,\n",
       " -0.030074400827288628,\n",
       " 0.014543083496391773,\n",
       " 0.02364226058125496,\n",
       " -0.07252060621976852,\n",
       " -0.0939532220363617,\n",
       " 0.03602762892842293,\n",
       " -0.05541011691093445,\n",
       " -0.055979758501052856,\n",
       " 0.031652793288230896,\n",
       " -0.04816940054297447,\n",
       " -0.002227173885330558,\n",
       " -0.05092598497867584,\n",
       " 0.058587972074747086,\n",
       " 0.0017001793021336198,\n",
       " -0.07121667265892029,\n",
       " -0.14100562036037445,\n",
       " 0.04063943028450012,\n",
       " 0.03640865534543991,\n",
       " 0.0420532152056694,\n",
       " -0.08162100613117218,\n",
       " -0.04281339421868324,\n",
       " 0.04522937536239624,\n",
       " 0.1374238133430481,\n",
       " -0.014047994278371334,\n",
       " -0.03151046484708786,\n",
       " 0.03054790012538433,\n",
       " 0.005659639369696379,\n",
       " -0.017330756410956383,\n",
       " -0.004623857792466879,\n",
       " -0.05742073059082031,\n",
       " 0.01706816256046295,\n",
       " -0.009442072361707687,\n",
       " 0.004394141025841236,\n",
       " 0.0034437726717442274,\n",
       " 0.09043272584676743,\n",
       " -0.014440645463764668,\n",
       " -0.07676465064287186,\n",
       " 0.01314967218786478,\n",
       " 0.03460278362035751,\n",
       " 0.015205038711428642,\n",
       " 0.03598403558135033,\n",
       " 0.017870761454105377,\n",
       " 0.0034469133242964745,\n",
       " -0.12131506949663162,\n",
       " 0.08982667326927185,\n",
       " 0.029401354491710663,\n",
       " 0.0063681951723992825,\n",
       " 0.08362486213445663,\n",
       " -0.015923159196972847,\n",
       " -0.04393504187464714,\n",
       " -0.03782176226377487,\n",
       " -0.04130377992987633,\n",
       " -0.0358666330575943,\n",
       " -0.046130284667015076,\n",
       " 0.029800178483128548,\n",
       " 0.025809528306126595,\n",
       " -0.06561878323554993,\n",
       " -0.04937073960900307,\n",
       " 0.012518073432147503,\n",
       " -0.04645727202296257,\n",
       " -0.03965245932340622,\n",
       " -0.09409847110509872,\n",
       " -0.017657894641160965,\n",
       " -0.07484757155179977,\n",
       " -0.015107394196093082,\n",
       " -0.02982061542570591,\n",
       " 0.0045530907809734344,\n",
       " -0.01027936302125454,\n",
       " 0.029832305386662483,\n",
       " -0.022358626127243042,\n",
       " 0.11252418160438538,\n",
       " -2.1906968225985094e-33,\n",
       " -0.01549830287694931,\n",
       " 0.038355134427547455,\n",
       " -0.03219669312238693,\n",
       " 0.0005569952772930264,\n",
       " 0.04787695035338402,\n",
       " 0.034869443625211716,\n",
       " 0.018991656601428986,\n",
       " 0.11162100732326508,\n",
       " -0.07283486425876617,\n",
       " 0.012859690934419632,\n",
       " 0.05882067233324051,\n",
       " -0.02282737009227276,\n",
       " 0.02290746569633484,\n",
       " -0.08821125328540802,\n",
       " 0.02922247350215912,\n",
       " -0.005533543415367603,\n",
       " 0.005442702677100897,\n",
       " -0.033838916569948196,\n",
       " 0.00021941990416962653,\n",
       " 0.11212338507175446,\n",
       " -0.006596225779503584,\n",
       " -0.039986856281757355,\n",
       " -0.013564102351665497,\n",
       " 0.0172280240803957,\n",
       " 0.09713300317525864,\n",
       " 0.09846903383731842,\n",
       " 0.011500555090606213,\n",
       " 0.05107336491346359,\n",
       " -0.007418487221002579,\n",
       " -0.009373346343636513,\n",
       " -0.02219192497432232,\n",
       " -0.07267124950885773,\n",
       " 0.005927538499236107,\n",
       " 0.023870984092354774,\n",
       " -0.03861135616898537,\n",
       " -0.0026451286394149065,\n",
       " 0.02689230442047119,\n",
       " 0.079840287566185,\n",
       " -0.021229621022939682,\n",
       " -0.04613148048520088,\n",
       " -0.008269086480140686,\n",
       " 0.0072740111500024796,\n",
       " -0.09993137419223785,\n",
       " 0.0382886603474617,\n",
       " 0.004870585631579161,\n",
       " 0.038781795650720596,\n",
       " -0.01262257806956768,\n",
       " -0.00932186096906662,\n",
       " 0.10512881726026535,\n",
       " 0.012953357771039009,\n",
       " -0.05723417177796364,\n",
       " 0.0027696345932781696,\n",
       " -0.02292955107986927,\n",
       " -0.008528848178684711,\n",
       " -0.02740994282066822,\n",
       " 0.002293901750817895,\n",
       " 0.007363564800471067,\n",
       " -0.07414668798446655,\n",
       " 0.010198764503002167,\n",
       " 0.05565660819411278,\n",
       " 0.0024575921706855297,\n",
       " -0.016062254086136818,\n",
       " -0.007230667397379875,\n",
       " 0.020927274599671364,\n",
       " 0.015202870592474937,\n",
       " -0.06475610285997391,\n",
       " -0.059910885989665985,\n",
       " -0.026486974209547043,\n",
       " 0.0016554093454033136,\n",
       " -0.014277802780270576,\n",
       " -0.027617739513516426,\n",
       " 0.03831274062395096,\n",
       " 0.07050558924674988,\n",
       " 0.07480330020189285,\n",
       " 0.07017030566930771,\n",
       " -0.07491731643676758,\n",
       " 0.045961473137140274,\n",
       " 0.011725707910954952,\n",
       " 0.0646997019648552,\n",
       " -0.033217404037714005,\n",
       " -0.011634069494903088,\n",
       " -0.05065389722585678,\n",
       " 0.02088669314980507,\n",
       " 0.06172448769211769,\n",
       " 0.05955912172794342,\n",
       " -0.02044661156833172,\n",
       " 0.05784964933991432,\n",
       " -0.0526970736682415,\n",
       " -0.018333984538912773,\n",
       " -0.03365525230765343,\n",
       " 0.03357198089361191,\n",
       " 0.07468098402023315,\n",
       " -0.031033266335725784,\n",
       " 0.12059616297483444,\n",
       " 0.03627591207623482,\n",
       " -1.4796660785520999e-08,\n",
       " -0.061280641704797745,\n",
       " -0.027172934263944626,\n",
       " 0.08875623345375061,\n",
       " -0.07166483253240585,\n",
       " -0.04831957444548607,\n",
       " -0.027818897739052773,\n",
       " 0.039549827575683594,\n",
       " -0.06006192788481712,\n",
       " 0.027482260018587112,\n",
       " 0.0347716398537159,\n",
       " 0.041327521204948425,\n",
       " -0.019120408222079277,\n",
       " -0.03479156270623207,\n",
       " -0.018206849694252014,\n",
       " -0.02251073345541954,\n",
       " -0.005075486376881599,\n",
       " 0.021420538425445557,\n",
       " 0.05360168218612671,\n",
       " 0.01594669371843338,\n",
       " 0.0737002044916153,\n",
       " -0.0036068949848413467,\n",
       " 0.03652970492839813,\n",
       " 0.06301102787256241,\n",
       " 0.034315165132284164,\n",
       " 0.06266174465417862,\n",
       " -0.07079661637544632,\n",
       " -0.045816484838724136,\n",
       " 0.017171639949083328,\n",
       " 0.04249972105026245,\n",
       " 0.037168048322200775,\n",
       " -0.004187576938420534,\n",
       " 0.07423917949199677,\n",
       " -0.012116331607103348,\n",
       " 0.062245890498161316,\n",
       " -0.030736766755580902,\n",
       " 0.0447581484913826,\n",
       " 0.042525701224803925,\n",
       " -0.062129586935043335,\n",
       " -0.10931263864040375,\n",
       " 0.005753663834184408,\n",
       " 0.05547039210796356,\n",
       " 0.04238066077232361,\n",
       " -0.04286416992545128,\n",
       " -0.08706982433795929,\n",
       " 0.16551892459392548,\n",
       " 0.10204344242811203,\n",
       " 0.026154741644859314,\n",
       " -0.05345193296670914,\n",
       " 0.05154173821210861,\n",
       " 0.06218494474887848,\n",
       " 0.008824114687740803,\n",
       " -0.006362705025821924,\n",
       " -0.0453278012573719,\n",
       " 0.001053755171597004,\n",
       " 0.0055398293770849705,\n",
       " 0.02356370911002159,\n",
       " 0.09173476696014404,\n",
       " -0.0068666706793010235,\n",
       " 0.06007865071296692,\n",
       " -0.05227642133831978,\n",
       " -0.009417722001671791,\n",
       " -0.013747104443609715,\n",
       " 0.01679307222366333,\n",
       " 0.03033117577433586]"
      ]
     },
     "execution_count": 9,
     "metadata": {},
     "output_type": "execute_result"
    }
   ],
   "source": [
    "# sample\n",
    "results=embeddings.embed_query(\"HF embedding model\")\n",
    "print(len(results))\n",
    "results"
   ]
  },
  {
   "cell_type": "code",
   "execution_count": 10,
   "id": "6ace723f",
   "metadata": {},
   "outputs": [
    {
     "data": {
      "text/plain": [
       "<langchain_community.vectorstores.faiss.FAISS at 0x1e667176080>"
      ]
     },
     "execution_count": 10,
     "metadata": {},
     "output_type": "execute_result"
    }
   ],
   "source": [
    "# vector embedding and vectorstoredb\n",
    "from langchain_community.vectorstores import FAISS\n",
    "db=FAISS.from_documents(final_docs,embeddings)\n",
    "db"
   ]
  },
  {
   "cell_type": "code",
   "execution_count": 11,
   "id": "4399aa48",
   "metadata": {},
   "outputs": [
    {
     "data": {
      "text/plain": [
       "[Document(id='0479a8df-b535-4575-b436-5170eca6fbdd', metadata={'producer': 'Microsoft® Word 2016', 'creator': 'Microsoft® Word 2016', 'creationdate': '2025-04-15T09:48:47+05:30', 'author': 'Kannan D', 'keywords': 'PUBLIC -', 'moddate': '2025-04-15T09:48:47+05:30', 'source': 'Swapnil Ransing Machine Learning Resume.pdf', 'total_pages': 2, 'page': 0, 'page_label': '1'}, page_content=\"PUBLIC \\nSwapnil Ranshing           \\uf028: +91- 836 974 6859 \\nData Scientist , Western Union, Pune, India             E-Mail: swapnilransing001@gmail.com \\nPortfolio Website:  Swapnil's Portfolio Website                                             LinkedIn Profile:  Swapnil's LinkedIn Profile  \\nSummary   \\no 7.5 years of expertise in machine learning, deep learning, natural language processing (NLP), GenAI, model \\ndevelopment and deployment for fraud and credit risk detection and payment fraud risk strategy development \\no Postgraduate degree from IIT Bombay and (Elite Silver) certificate for Data Science for Engineers from IIT Madras  \\nand certificate for Deep Learning specialization from DeepLearning.AI and Coursera \\nSkills Summary   \\no Machine Learning and Deep Learning Models:  Supervised and Unsupervised Learning, Ensemble Methods, \\nDecision Trees, Random Forest, XGBoost, Deep Learning, Neural Networks, CNN, RNN, optimization algorithms\"),\n",
       " Document(id='fd99f8c1-714a-4ef5-b36b-9386f5e0a8b3', metadata={'producer': 'Microsoft® Word 2016', 'creator': 'Microsoft® Word 2016', 'creationdate': '2025-04-15T09:48:47+05:30', 'author': 'Kannan D', 'keywords': 'PUBLIC -', 'moddate': '2025-04-15T09:48:47+05:30', 'source': 'Swapnil Ransing Machine Learning Resume.pdf', 'total_pages': 2, 'page': 1, 'page_label': '2'}, page_content='Portfolio Projects \\n(Portfolio Link)\\n  \\n  \\n\\uf0b7 Predicting Clients Loan Repayment Ability (GitHub Link) (Kaggle Problem Statement Link) \\nI. EDA and Featurization: EDA is performed to understand variables correlation with target. Created around 1770  \\nfeatures consisting of velocity, age, count, decay, categorical variables from provided datasets.  \\nII. Feature Selection : Small set of important features selected using weight of evidence and Information value, \\nforward feature selection and count of votes from different ml models feature importance. \\nIII. Modeling and Results: Hyperparameter tuned machine learning and deep learning algorithms. Achieved 76% ROC \\nAUC with LightGBM model which captured 53% defaulters at 20% operating range. \\nIV. Risk Strategy Scorecard Development:  Risk scorecard developed using PDO calibration method. \\n \\n\\uf0b7 NLP - Question Pair Similarity (GitHub Link) (Kaggle Problem Statement)'),\n",
       " Document(id='e28b042f-4dfd-4c1b-9b27-daaabe21f59e', metadata={'producer': 'Microsoft® Word 2016', 'creator': 'Microsoft® Word 2016', 'creationdate': '2025-04-15T09:48:47+05:30', 'author': 'Kannan D', 'keywords': 'PUBLIC -', 'moddate': '2025-04-15T09:48:47+05:30', 'source': 'Swapnil Ransing Machine Learning Resume.pdf', 'total_pages': 2, 'page': 1, 'page_label': '2'}, page_content='Certifications \\n\\uf026Deep Learning Specialization          \\uf026Data Science for Engineers      \\uf026Programming, Data Structure and Algorithms  \\n\\uf026Amazon Web Services Machine Learning Essential Training               \\uf026Learning Amazon SageMaker \\n\\uf026Power BI Data Modeling with DAX   \\uf026Power BI A-Z: Hands-On Power BI For Data Science!  \\uf026DFSS GB'),\n",
       " Document(id='d05aad9c-bcb2-4dff-8b09-1ccc3b965375', metadata={'producer': 'Microsoft® Word 2016', 'creator': 'Microsoft® Word 2016', 'creationdate': '2025-04-15T09:48:47+05:30', 'author': 'Kannan D', 'keywords': 'PUBLIC -', 'moddate': '2025-04-15T09:48:47+05:30', 'source': 'Swapnil Ransing Machine Learning Resume.pdf', 'total_pages': 2, 'page': 0, 'page_label': '1'}, page_content='Decision Trees, Random Forest, XGBoost, Deep Learning, Neural Networks, CNN, RNN, optimization algorithms \\no Advanced Models: Large Language Models (LLM), Generative AI \\no Languages: Python, SQL \\no Data Analysis: Data Wrangling, Feature Engineering, Data Visualization, Statistical Analysis \\no Frameworks: Sci-kit Learn, TensorFlow, Keras \\no Tools: AWS SageMaker, Power BI, Git, GitHub \\nWork Experience  \\n  \\nWestern Union Technology Engineering Center- Pune                                 (Apr 2022- Present) \\n\\uf0b7 Data Scientist, Digital Risk Decision Sciences  \\no Responsibilities: Machine learning model and strategy development for Fraudulent transaction detection \\no Projects: \\n\\uf0b7 Machine Learning Model and Risk Strategy Development for Fraudulent Transaction Detection \\nI. Developed and deployed 10 models on highly imbalanced fraud data for various customer segments \\nII. Featurization and EDA: Created around 700 features consisting of velocity, age, count, decay , categorical')]"
      ]
     },
     "execution_count": 11,
     "metadata": {},
     "output_type": "execute_result"
    }
   ],
   "source": [
    "# Querry\n",
    "querry=\"What are all the skills does an applicant have?\"\n",
    "docs=db.similarity_search(querry)\n",
    "docs"
   ]
  },
  {
   "cell_type": "code",
   "execution_count": 12,
   "id": "578dff7f",
   "metadata": {},
   "outputs": [
    {
     "name": "stdout",
     "output_type": "stream",
     "text": [
      "PUBLIC \n",
      "Swapnil Ranshing           : +91- 836 974 6859 \n",
      "Data Scientist , Western Union, Pune, India             E-Mail: swapnilransing001@gmail.com \n",
      "Portfolio Website:  Swapnil's Portfolio Website                                             LinkedIn Profile:  Swapnil's LinkedIn Profile  \n",
      "Summary   \n",
      "o 7.5 years of expertise in machine learning, deep learning, natural language processing (NLP), GenAI, model \n",
      "development and deployment for fraud and credit risk detection and payment fraud risk strategy development \n",
      "o Postgraduate degree from IIT Bombay and (Elite Silver) certificate for Data Science for Engineers from IIT Madras  \n",
      "and certificate for Deep Learning specialization from DeepLearning.AI and Coursera \n",
      "Skills Summary   \n",
      "o Machine Learning and Deep Learning Models:  Supervised and Unsupervised Learning, Ensemble Methods, \n",
      "Decision Trees, Random Forest, XGBoost, Deep Learning, Neural Networks, CNN, RNN, optimization algorithms\n",
      "--------------------------------------------------\n",
      "Portfolio Projects \n",
      "(Portfolio Link)\n",
      "  \n",
      "  \n",
      " Predicting Clients Loan Repayment Ability (GitHub Link) (Kaggle Problem Statement Link) \n",
      "I. EDA and Featurization: EDA is performed to understand variables correlation with target. Created around 1770  \n",
      "features consisting of velocity, age, count, decay, categorical variables from provided datasets.  \n",
      "II. Feature Selection : Small set of important features selected using weight of evidence and Information value, \n",
      "forward feature selection and count of votes from different ml models feature importance. \n",
      "III. Modeling and Results: Hyperparameter tuned machine learning and deep learning algorithms. Achieved 76% ROC \n",
      "AUC with LightGBM model which captured 53% defaulters at 20% operating range. \n",
      "IV. Risk Strategy Scorecard Development:  Risk scorecard developed using PDO calibration method. \n",
      " \n",
      " NLP - Question Pair Similarity (GitHub Link) (Kaggle Problem Statement)\n",
      "--------------------------------------------------\n",
      "Certifications \n",
      "Deep Learning Specialization          Data Science for Engineers      Programming, Data Structure and Algorithms  \n",
      "Amazon Web Services Machine Learning Essential Training               Learning Amazon SageMaker \n",
      "Power BI Data Modeling with DAX   Power BI A-Z: Hands-On Power BI For Data Science!  DFSS GB\n",
      "--------------------------------------------------\n",
      "Decision Trees, Random Forest, XGBoost, Deep Learning, Neural Networks, CNN, RNN, optimization algorithms \n",
      "o Advanced Models: Large Language Models (LLM), Generative AI \n",
      "o Languages: Python, SQL \n",
      "o Data Analysis: Data Wrangling, Feature Engineering, Data Visualization, Statistical Analysis \n",
      "o Frameworks: Sci-kit Learn, TensorFlow, Keras \n",
      "o Tools: AWS SageMaker, Power BI, Git, GitHub \n",
      "Work Experience  \n",
      "  \n",
      "Western Union Technology Engineering Center- Pune                                 (Apr 2022- Present) \n",
      " Data Scientist, Digital Risk Decision Sciences  \n",
      "o Responsibilities: Machine learning model and strategy development for Fraudulent transaction detection \n",
      "o Projects: \n",
      " Machine Learning Model and Risk Strategy Development for Fraudulent Transaction Detection \n",
      "I. Developed and deployed 10 models on highly imbalanced fraud data for various customer segments \n",
      "II. Featurization and EDA: Created around 700 features consisting of velocity, age, count, decay , categorical\n",
      "--------------------------------------------------\n"
     ]
    }
   ],
   "source": [
    "for i in docs:\n",
    "    print(i.page_content)\n",
    "    print('-'*50)"
   ]
  },
  {
   "cell_type": "markdown",
   "id": "1221117a",
   "metadata": {},
   "source": [
    "### As a retreiver"
   ]
  },
  {
   "cell_type": "code",
   "execution_count": 13,
   "id": "2746dc50",
   "metadata": {},
   "outputs": [
    {
     "data": {
      "text/plain": [
       "[Document(id='0479a8df-b535-4575-b436-5170eca6fbdd', metadata={'producer': 'Microsoft® Word 2016', 'creator': 'Microsoft® Word 2016', 'creationdate': '2025-04-15T09:48:47+05:30', 'author': 'Kannan D', 'keywords': 'PUBLIC -', 'moddate': '2025-04-15T09:48:47+05:30', 'source': 'Swapnil Ransing Machine Learning Resume.pdf', 'total_pages': 2, 'page': 0, 'page_label': '1'}, page_content=\"PUBLIC \\nSwapnil Ranshing           \\uf028: +91- 836 974 6859 \\nData Scientist , Western Union, Pune, India             E-Mail: swapnilransing001@gmail.com \\nPortfolio Website:  Swapnil's Portfolio Website                                             LinkedIn Profile:  Swapnil's LinkedIn Profile  \\nSummary   \\no 7.5 years of expertise in machine learning, deep learning, natural language processing (NLP), GenAI, model \\ndevelopment and deployment for fraud and credit risk detection and payment fraud risk strategy development \\no Postgraduate degree from IIT Bombay and (Elite Silver) certificate for Data Science for Engineers from IIT Madras  \\nand certificate for Deep Learning specialization from DeepLearning.AI and Coursera \\nSkills Summary   \\no Machine Learning and Deep Learning Models:  Supervised and Unsupervised Learning, Ensemble Methods, \\nDecision Trees, Random Forest, XGBoost, Deep Learning, Neural Networks, CNN, RNN, optimization algorithms\"),\n",
       " Document(id='fd99f8c1-714a-4ef5-b36b-9386f5e0a8b3', metadata={'producer': 'Microsoft® Word 2016', 'creator': 'Microsoft® Word 2016', 'creationdate': '2025-04-15T09:48:47+05:30', 'author': 'Kannan D', 'keywords': 'PUBLIC -', 'moddate': '2025-04-15T09:48:47+05:30', 'source': 'Swapnil Ransing Machine Learning Resume.pdf', 'total_pages': 2, 'page': 1, 'page_label': '2'}, page_content='Portfolio Projects \\n(Portfolio Link)\\n  \\n  \\n\\uf0b7 Predicting Clients Loan Repayment Ability (GitHub Link) (Kaggle Problem Statement Link) \\nI. EDA and Featurization: EDA is performed to understand variables correlation with target. Created around 1770  \\nfeatures consisting of velocity, age, count, decay, categorical variables from provided datasets.  \\nII. Feature Selection : Small set of important features selected using weight of evidence and Information value, \\nforward feature selection and count of votes from different ml models feature importance. \\nIII. Modeling and Results: Hyperparameter tuned machine learning and deep learning algorithms. Achieved 76% ROC \\nAUC with LightGBM model which captured 53% defaulters at 20% operating range. \\nIV. Risk Strategy Scorecard Development:  Risk scorecard developed using PDO calibration method. \\n \\n\\uf0b7 NLP - Question Pair Similarity (GitHub Link) (Kaggle Problem Statement)'),\n",
       " Document(id='e28b042f-4dfd-4c1b-9b27-daaabe21f59e', metadata={'producer': 'Microsoft® Word 2016', 'creator': 'Microsoft® Word 2016', 'creationdate': '2025-04-15T09:48:47+05:30', 'author': 'Kannan D', 'keywords': 'PUBLIC -', 'moddate': '2025-04-15T09:48:47+05:30', 'source': 'Swapnil Ransing Machine Learning Resume.pdf', 'total_pages': 2, 'page': 1, 'page_label': '2'}, page_content='Certifications \\n\\uf026Deep Learning Specialization          \\uf026Data Science for Engineers      \\uf026Programming, Data Structure and Algorithms  \\n\\uf026Amazon Web Services Machine Learning Essential Training               \\uf026Learning Amazon SageMaker \\n\\uf026Power BI Data Modeling with DAX   \\uf026Power BI A-Z: Hands-On Power BI For Data Science!  \\uf026DFSS GB'),\n",
       " Document(id='d05aad9c-bcb2-4dff-8b09-1ccc3b965375', metadata={'producer': 'Microsoft® Word 2016', 'creator': 'Microsoft® Word 2016', 'creationdate': '2025-04-15T09:48:47+05:30', 'author': 'Kannan D', 'keywords': 'PUBLIC -', 'moddate': '2025-04-15T09:48:47+05:30', 'source': 'Swapnil Ransing Machine Learning Resume.pdf', 'total_pages': 2, 'page': 0, 'page_label': '1'}, page_content='Decision Trees, Random Forest, XGBoost, Deep Learning, Neural Networks, CNN, RNN, optimization algorithms \\no Advanced Models: Large Language Models (LLM), Generative AI \\no Languages: Python, SQL \\no Data Analysis: Data Wrangling, Feature Engineering, Data Visualization, Statistical Analysis \\no Frameworks: Sci-kit Learn, TensorFlow, Keras \\no Tools: AWS SageMaker, Power BI, Git, GitHub \\nWork Experience  \\n  \\nWestern Union Technology Engineering Center- Pune                                 (Apr 2022- Present) \\n\\uf0b7 Data Scientist, Digital Risk Decision Sciences  \\no Responsibilities: Machine learning model and strategy development for Fraudulent transaction detection \\no Projects: \\n\\uf0b7 Machine Learning Model and Risk Strategy Development for Fraudulent Transaction Detection \\nI. Developed and deployed 10 models on highly imbalanced fraud data for various customer segments \\nII. Featurization and EDA: Created around 700 features consisting of velocity, age, count, decay , categorical')]"
      ]
     },
     "execution_count": 13,
     "metadata": {},
     "output_type": "execute_result"
    }
   ],
   "source": [
    "retriever=db.as_retriever()\n",
    "retriever.invoke(querry)"
   ]
  },
  {
   "cell_type": "markdown",
   "id": "2566f407",
   "metadata": {},
   "source": [
    "### Similarity Search with score\n",
    "Return L2 distance and hence lower score is better"
   ]
  },
  {
   "cell_type": "code",
   "execution_count": 14,
   "id": "d759a6b4",
   "metadata": {},
   "outputs": [
    {
     "data": {
      "text/plain": [
       "[(Document(id='0479a8df-b535-4575-b436-5170eca6fbdd', metadata={'producer': 'Microsoft® Word 2016', 'creator': 'Microsoft® Word 2016', 'creationdate': '2025-04-15T09:48:47+05:30', 'author': 'Kannan D', 'keywords': 'PUBLIC -', 'moddate': '2025-04-15T09:48:47+05:30', 'source': 'Swapnil Ransing Machine Learning Resume.pdf', 'total_pages': 2, 'page': 0, 'page_label': '1'}, page_content=\"PUBLIC \\nSwapnil Ranshing           \\uf028: +91- 836 974 6859 \\nData Scientist , Western Union, Pune, India             E-Mail: swapnilransing001@gmail.com \\nPortfolio Website:  Swapnil's Portfolio Website                                             LinkedIn Profile:  Swapnil's LinkedIn Profile  \\nSummary   \\no 7.5 years of expertise in machine learning, deep learning, natural language processing (NLP), GenAI, model \\ndevelopment and deployment for fraud and credit risk detection and payment fraud risk strategy development \\no Postgraduate degree from IIT Bombay and (Elite Silver) certificate for Data Science for Engineers from IIT Madras  \\nand certificate for Deep Learning specialization from DeepLearning.AI and Coursera \\nSkills Summary   \\no Machine Learning and Deep Learning Models:  Supervised and Unsupervised Learning, Ensemble Methods, \\nDecision Trees, Random Forest, XGBoost, Deep Learning, Neural Networks, CNN, RNN, optimization algorithms\"),\n",
       "  1.2734532),\n",
       " (Document(id='fd99f8c1-714a-4ef5-b36b-9386f5e0a8b3', metadata={'producer': 'Microsoft® Word 2016', 'creator': 'Microsoft® Word 2016', 'creationdate': '2025-04-15T09:48:47+05:30', 'author': 'Kannan D', 'keywords': 'PUBLIC -', 'moddate': '2025-04-15T09:48:47+05:30', 'source': 'Swapnil Ransing Machine Learning Resume.pdf', 'total_pages': 2, 'page': 1, 'page_label': '2'}, page_content='Portfolio Projects \\n(Portfolio Link)\\n  \\n  \\n\\uf0b7 Predicting Clients Loan Repayment Ability (GitHub Link) (Kaggle Problem Statement Link) \\nI. EDA and Featurization: EDA is performed to understand variables correlation with target. Created around 1770  \\nfeatures consisting of velocity, age, count, decay, categorical variables from provided datasets.  \\nII. Feature Selection : Small set of important features selected using weight of evidence and Information value, \\nforward feature selection and count of votes from different ml models feature importance. \\nIII. Modeling and Results: Hyperparameter tuned machine learning and deep learning algorithms. Achieved 76% ROC \\nAUC with LightGBM model which captured 53% defaulters at 20% operating range. \\nIV. Risk Strategy Scorecard Development:  Risk scorecard developed using PDO calibration method. \\n \\n\\uf0b7 NLP - Question Pair Similarity (GitHub Link) (Kaggle Problem Statement)'),\n",
       "  1.4274356),\n",
       " (Document(id='e28b042f-4dfd-4c1b-9b27-daaabe21f59e', metadata={'producer': 'Microsoft® Word 2016', 'creator': 'Microsoft® Word 2016', 'creationdate': '2025-04-15T09:48:47+05:30', 'author': 'Kannan D', 'keywords': 'PUBLIC -', 'moddate': '2025-04-15T09:48:47+05:30', 'source': 'Swapnil Ransing Machine Learning Resume.pdf', 'total_pages': 2, 'page': 1, 'page_label': '2'}, page_content='Certifications \\n\\uf026Deep Learning Specialization          \\uf026Data Science for Engineers      \\uf026Programming, Data Structure and Algorithms  \\n\\uf026Amazon Web Services Machine Learning Essential Training               \\uf026Learning Amazon SageMaker \\n\\uf026Power BI Data Modeling with DAX   \\uf026Power BI A-Z: Hands-On Power BI For Data Science!  \\uf026DFSS GB'),\n",
       "  1.4518081),\n",
       " (Document(id='d05aad9c-bcb2-4dff-8b09-1ccc3b965375', metadata={'producer': 'Microsoft® Word 2016', 'creator': 'Microsoft® Word 2016', 'creationdate': '2025-04-15T09:48:47+05:30', 'author': 'Kannan D', 'keywords': 'PUBLIC -', 'moddate': '2025-04-15T09:48:47+05:30', 'source': 'Swapnil Ransing Machine Learning Resume.pdf', 'total_pages': 2, 'page': 0, 'page_label': '1'}, page_content='Decision Trees, Random Forest, XGBoost, Deep Learning, Neural Networks, CNN, RNN, optimization algorithms \\no Advanced Models: Large Language Models (LLM), Generative AI \\no Languages: Python, SQL \\no Data Analysis: Data Wrangling, Feature Engineering, Data Visualization, Statistical Analysis \\no Frameworks: Sci-kit Learn, TensorFlow, Keras \\no Tools: AWS SageMaker, Power BI, Git, GitHub \\nWork Experience  \\n  \\nWestern Union Technology Engineering Center- Pune                                 (Apr 2022- Present) \\n\\uf0b7 Data Scientist, Digital Risk Decision Sciences  \\no Responsibilities: Machine learning model and strategy development for Fraudulent transaction detection \\no Projects: \\n\\uf0b7 Machine Learning Model and Risk Strategy Development for Fraudulent Transaction Detection \\nI. Developed and deployed 10 models on highly imbalanced fraud data for various customer segments \\nII. Featurization and EDA: Created around 700 features consisting of velocity, age, count, decay , categorical'),\n",
       "  1.5116875)]"
      ]
     },
     "execution_count": 14,
     "metadata": {},
     "output_type": "execute_result"
    }
   ],
   "source": [
    "# Querry\n",
    "querry=\"What are all the skills does an applicant have?\"\n",
    "docs=db.similarity_search_with_score(querry)\n",
    "docs"
   ]
  },
  {
   "cell_type": "code",
   "execution_count": 15,
   "id": "0bc7298f",
   "metadata": {},
   "outputs": [
    {
     "name": "stdout",
     "output_type": "stream",
     "text": [
      "PUBLIC \n",
      "Swapnil Ranshing           : +91- 836 974 6859 \n",
      "Data Scientist , Western Union, Pune, India             E-Mail: swapnilransing001@gmail.com \n",
      "Portfolio Website:  Swapnil's Portfolio Website                                             LinkedIn Profile:  Swapnil's LinkedIn Profile  \n",
      "Summary   \n",
      "o 7.5 years of expertise in machine learning, deep learning, natural language processing (NLP), GenAI, model \n",
      "development and deployment for fraud and credit risk detection and payment fraud risk strategy development \n",
      "o Postgraduate degree from IIT Bombay and (Elite Silver) certificate for Data Science for Engineers from IIT Madras  \n",
      "and certificate for Deep Learning specialization from DeepLearning.AI and Coursera \n",
      "Skills Summary   \n",
      "o Machine Learning and Deep Learning Models:  Supervised and Unsupervised Learning, Ensemble Methods, \n",
      "Decision Trees, Random Forest, XGBoost, Deep Learning, Neural Networks, CNN, RNN, optimization algorithms\n",
      "--------------------------------------------------\n",
      "Portfolio Projects \n",
      "(Portfolio Link)\n",
      "  \n",
      "  \n",
      " Predicting Clients Loan Repayment Ability (GitHub Link) (Kaggle Problem Statement Link) \n",
      "I. EDA and Featurization: EDA is performed to understand variables correlation with target. Created around 1770  \n",
      "features consisting of velocity, age, count, decay, categorical variables from provided datasets.  \n",
      "II. Feature Selection : Small set of important features selected using weight of evidence and Information value, \n",
      "forward feature selection and count of votes from different ml models feature importance. \n",
      "III. Modeling and Results: Hyperparameter tuned machine learning and deep learning algorithms. Achieved 76% ROC \n",
      "AUC with LightGBM model which captured 53% defaulters at 20% operating range. \n",
      "IV. Risk Strategy Scorecard Development:  Risk scorecard developed using PDO calibration method. \n",
      " \n",
      " NLP - Question Pair Similarity (GitHub Link) (Kaggle Problem Statement)\n",
      "--------------------------------------------------\n"
     ]
    }
   ],
   "source": [
    "for i in docs:\n",
    "    if i[1]<1.45:\n",
    "        print(i[0].page_content)\n",
    "        print('-'*50)"
   ]
  },
  {
   "cell_type": "markdown",
   "id": "476f6fb2",
   "metadata": {},
   "source": [
    "## Observations:\n",
    "1. Gemini model performed well compared to HF model"
   ]
  }
 ],
 "metadata": {
  "kernelspec": {
   "display_name": ".venv",
   "language": "python",
   "name": "python3"
  },
  "language_info": {
   "codemirror_mode": {
    "name": "ipython",
    "version": 3
   },
   "file_extension": ".py",
   "mimetype": "text/x-python",
   "name": "python",
   "nbconvert_exporter": "python",
   "pygments_lexer": "ipython3",
   "version": "3.10.0"
  }
 },
 "nbformat": 4,
 "nbformat_minor": 5
}
