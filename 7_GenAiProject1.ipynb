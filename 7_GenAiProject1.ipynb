{
 "cells": [
  {
   "cell_type": "markdown",
   "id": "8b0e0f5a",
   "metadata": {},
   "source": [
    "## GenAI Project\n",
    "Develope a question answer chatbot for a website information\n",
    "We will use agile description website (https://asana.com/resources/agile-methodology) to query for the detials"
   ]
  },
  {
   "cell_type": "code",
   "execution_count": 1,
   "id": "4c01c73a",
   "metadata": {},
   "outputs": [
    {
     "data": {
      "text/plain": [
       "True"
      ]
     },
     "execution_count": 1,
     "metadata": {},
     "output_type": "execute_result"
    }
   ],
   "source": [
    "import os\n",
    "from dotenv import load_dotenv\n",
    "load_dotenv()"
   ]
  },
  {
   "cell_type": "code",
   "execution_count": 2,
   "id": "091d50c1",
   "metadata": {},
   "outputs": [],
   "source": [
    "os.environ[\"GOOGLE_API_KEY\"]=os.getenv(\"google_api_key\")\n",
    "os.environ[\"LANGCHAIN_API_KEY\"]=os.getenv(\"langchain_api_key\")\n",
    "os.environ[\"LANGCHAIN_TRACING_V2\"]=\"true\"\n",
    "os.environ[\"LANGCHAIN_PROJECT\"]=os.getenv(\"langchain_project\")"
   ]
  },
  {
   "cell_type": "code",
   "execution_count": 16,
   "id": "fe9c7795",
   "metadata": {},
   "outputs": [],
   "source": [
    "# Data ingestion - scrape from website\n",
    "from langchain_community.document_loaders import WebBaseLoader"
   ]
  },
  {
   "cell_type": "code",
   "execution_count": 6,
   "id": "f7ff7d8a",
   "metadata": {},
   "outputs": [
    {
     "data": {
      "text/plain": [
       "<langchain_community.document_loaders.web_base.WebBaseLoader at 0x1e3d3dc6b90>"
      ]
     },
     "execution_count": 6,
     "metadata": {},
     "output_type": "execute_result"
    }
   ],
   "source": [
    "loader=WebBaseLoader(\"https://asana.com/resources/agile-methodology\")\n",
    "loader"
   ]
  },
  {
   "cell_type": "code",
   "execution_count": 7,
   "id": "e754cde2",
   "metadata": {},
   "outputs": [
    {
     "data": {
      "text/plain": [
       "[Document(metadata={'source': 'https://asana.com/resources/agile-methodology', 'title': 'What Is Agile Methodology? (A Beginner’s Guide) [2025] • Asana', 'description': 'Agile methodology is a framework that breaks projects down into several dynamic phases, commonly known as sprints. Learn more. ', 'language': 'en'}, page_content='\\n\\nWhat Is Agile Methodology? (A Beginner’s Guide) [2025] • AsanaJoin us: Learn how to build a trusted AI strategy to support your company\\'s intelligent transformation, featuring ForresterRegister nowx iconAsana HomeProduct chevron-down iconSolutions chevron-down iconResources chevron-down iconPricingChoose your preferred languageBahasa IndonesiaDeutschEnglishEspañolFrançaisItaliano日本語한국어NederlandsPolskiPortuguêsРусскийSvenska繁體中文Contact salesLog InGet startedProductchevron-down iconPLATFORMProduct overviewAll featuresLatest feature releaseApp integrationsCAPABILITIESproject iconProject managementgoal iconGoals and reportingasana-intelligence iconAsana AIworkflow iconWorkflows and automationportfolio iconResource managementmy-task iconAdmin and securityALL PLANSlist iconPersonalpremium iconStarterbriefcase iconAdvancedSolutionschevron-down iconCompany TypeEnterpriseSmall businessNonprofitTeamsOperationsMarketingITLeadersIndustriesHealthcareRetailFinancial ServicesEducationManufacturingUse CasesGoal managementOrganizational planningProject intakeResource planningProduct launchesView all use casesarrow-right iconResourceschevron-down iconLearnHelp CenterAsana AcademyCertificationsForumsDiscoverWork management hubCustomer storiesEventsSUPPORT & SERVICESGet supportDeveloper supportPartnersCustomer successTemplatesProject plansTeam goals & objectivesTeam continuityMeeting agendaView all templatesarrow-right iconPricingGet startedGet startedLog InLaunch AsanaContact salesView demoDownload appPLATFORMProduct overviewAll featuresLatest feature releaseApp integrationsCAPABILITIESproject iconProject managementgoal iconGoals and reportingasana-intelligence iconAsana AIworkflow iconWorkflows and automationportfolio iconResource managementmy-task iconAdmin and securityALL PLANSlist iconPersonalpremium iconStarterbriefcase iconAdvancedCompany TypeEnterpriseSmall businessNonprofitTeamsOperationsMarketingITLeadersIndustriesHealthcareRetailFinancial ServicesEducationManufacturingUse CasesGoal managementOrganizational planningProject intakeResource planningProduct launchesView all use casesarrow-right iconLearnHelp CenterAsana AcademyCertificationsForumsDiscoverWork management hubCustomer storiesEventsSUPPORT & SERVICESGet supportDeveloper supportPartnersCustomer successTemplatesProject plansTeam goals & objectivesTeam continuityMeeting agendaView all templatesarrow-right iconContact salesView demoDownload appResources|Agile|What is Agile methodology? (A beginner’ ...What is Agile methodology? (A beginner’s guide)Sarah LaoyanFebruary 20th, 20257 min readfacebookx-twitterlinkedinJump to sectionWhat is the Agile methodology?What are the 4 pillars of Agile?What are the 12 Agile principles?What are the benefits of the Agile development methodology?Types of Agile methodologiesOrganize Agile processes with AsanaFAQs about Agile methodology meaning and best practicesView templatesWatch demoSummaryAgile methodology is a project management framework that breaks projects down into several dynamic phases, commonly known as sprints. In this article, get a high-level overview of Agile project management, plus a few common frameworks to choose the right one for your team. Scrum, Kanban, waterfall, Agile.\\xa0There\\'s a wide array of project management frameworks you can use. Some methods though, like waterfall, aren\\'t as effective for software teams. With priorities and customer needs constantly changing, the Agile methodology breaks projects up into several phases to drive continuous improvement.\\xa0Agile project management isn’t just useful for software development—all types of teams have been successful with this dynamic methodology. If you’re looking to get started with Agile methodology, you’ve come to the right place.See how you can superpower your operationsTransform overwhelm into opportunity when you align your teams, automate tracking, and make data-driven decisions. Do it all with ease and discover your path to operational excellence.Watch demoWhat is the Agile methodology?Agile methodology is a project management framework that breaks projects down into several dynamic phases, commonly known as sprints.\\xa0The Agile framework is an iterative methodology. After every sprint, teams reflect and look back to see if there was anything that could be improved so they can adjust their strategy for the next sprint.What is the Agile Manifesto?The Manifesto for Agile Software Development is a document that details the four values and 12 principles for Agile software development. It was published in February 2001 by 17 software developers who needed an alternative to the more linear product development process.\\xa0 What are the 4 pillars of Agile?As outlined in the Agile Manifesto, there are four main values of Agile project management:Individuals over processes and tools. Agile teams value team collaboration and teamwork over working independently and doing things \"by the book.”Working software over comprehensive documentation. The software that Agile teams develop should work. Additional work, like documentation, is not as important as developing good software.Customer collaboration over contract negotiation. Customers are extremely important within the Agile methodology. Agile teams allow customers to guide where the software should go. Therefore, customer collaboration is more important than the finer details of contract negotiation.Responding to change over following a plan. One of the major benefits of Agile project management is that it allows teams to be flexible. This framework allows for teams to quickly shift strategies and workflows without derailing an entire project.What are the 12 Agile principles?If the four values of the Agile model are the weight-bearing pillars of a house, then the 12 Agile principles are the rooms you can build within that house. These principles can be easily adapted to fit the needs of your software development process.\\xa0The 12 principles used in Agile methodology are:Satisfy customers through early, continuous improvement and delivery.When customers receive new updates regularly, they\\'re more likely to see the changes they want within the product. This leads to happier, more satisfied customers—and more recurring revenue.Welcome changing requirements, even late in the project. The Agile framework is all about adaptability. In iterative approaches like Agile, being inflexible causes more harm than good.\\xa0Deliver value frequently. Similar to principle #1, continuous delivery of value to your customers or stakeholders frequently makes it less likely for them to churn.\\xa0Break the silos of your projects. Cross-functional teams and collaboration is a key Agile value. The goal is for people to break out of their individual projects and collaborate more frequently.\\xa0Build projects around motivated individuals. Agile management works best when teams are committed and actively working to achieve a goal.\\xa0The most effective way to communicate is face-to-face. If you’re working on a distributed team, spend time communicating in ways that involve face-to-face communication like Zoom calls or daily stand-up meetings.\\xa0Working software is the primary measure of progress. The ultimate goal of software development projects is a working product, and the Agile framework supports this by prioritizing functional software above all.Maintain a sustainable working pace. Some aspects of Agile project management can be fast-paced, but it shouldn\\'t be so fast that team members burn out. The goal is to maintain sustainability throughout the development process.Continuous excellence enhances agility. If the team develops excellent code in one sprint, they can continue to build off of it the next. Continually creating great work allows teams to move faster in the future.\\xa0Simplicity is essential. Sometimes the simplest solution is the best solution. Agile development aims to not overcomplicate things and find simple answers to complex problems.\\xa0Self-organizing teams generate the most value. Similar to principle #5, proactive teams become valuable assets to the company as they strive to deliver continuous improvement.Regularly reflect and adjust your way of work to improve effectiveness. Retrospective meetings are a common Agile practice. It\\'s a dedicated time for Agile teams to look back and reflect on their performance and adapt their behaviors for the future.Create an Agile project plan templateWhat are the benefits of the Agile development methodology?You commonly find Agile project management used in application development or other types of software development. This is because software is constantly changing, and the needs of the product have to change with it.\\xa0Because of this, linear project management methods like the waterfall model are less effective. Here are a few other reasons why teams use Agile:Agile methods are adaptableThere\\'s a reason why they call it the Agile methodology. One of the main benefits of using Agile processes in software development is the ability to shift strategies quickly, without disrupting the flow of a project.\\xa0Because phases in the traditional waterfall method flow into one another, shifting strategies is challenging and can disrupt the rest of the project roadmap. Since software development is a much more adaptable field, project managing rapid changes in the traditional sense can be challenging. This is part of the reason why Agile project management is favored in software development.Agile fosters collaborative teamworkOne of the Agile principles states that the most effective way to communicate with your team is face-to-face. Combine this with the principle that encourages teams to break project silos and you have a recipe for collaborative teamwork.\\xa0While technology has changed since Agile’s inception and work has shifted to welcome more remote-friendly policies, the idea of working face-to-face still hasn\\'t changed.Read: 10 easy steps to boost team collaborationAgile methods focus on customer needsOne of the unique aspects of software development is that teams can focus on customer needs much more closely than other industries. With the rise of cloud-based software, teams can get feedback from their actual customers quickly.\\xa0Since customer satisfaction is a key driver for software development, it’s easy to see why it was included in the Agile process. By collaborating with customers, Agile teams can prioritize features that focus on customer needs. When those needs change, teams can take an Agile approach and shift to a different project.\\xa0Types of Agile methodologiesThe Agile framework is an umbrella for several different variations. Here are a few of the most common Agile methodologies.\\xa0KanbanKanban is a visual approach to Agile. Teams use online Kanban board tools to represent where certain tasks are in the development process. Tasks are represented by cards on a board, and stages are represented in columns. As team members work on tasks, they move cards from the backlog column to the column that represents the stage the task is in.This method is a good way for teams to identify roadblocks and to visualize the amount of work that’s getting done.\\xa0Read: A beginner\\'s guide to Kanban boardsScrumScrum is a common Agile methodology for small teams and also involves sprints. The team is led by a Scrum master whose main job is to clear all obstacles for others executing the day-to-day work.\\xa0Scrum teams meet daily to discuss active tasks, roadblocks, and anything else that may affect the development team.\\xa0\\xa0Sprint planning: This event kicks off the sprint. Sprint planning outlines what can be delivered in a sprint (and how).Sprint retrospective: This recurring meeting acts as a sprint review—to iterate on learnings from a previous sprint that will improve and streamline the next one.\\xa0Extreme Programming (XP)Typically used in software development, Extreme Programming (XP) is an Agile framework that outlines values that will allow your team to work together more effectively.\\xa0\\xa0The five values of XP include:CommunicationSimplicityFeedbackCourageRespect\\xa0\\xa0Similar to daily Scrum standups, there are regular releases and iterations, yet XP is much more technical in its approach. If your dev team needs to quickly release and respond to customer requests, XP focuses on the “how” it will get done.\\xa0Adaptive Project Framework (APF)The Adaptive Project Framework, also known as Adaptive Project Management (APM) grew from the idea that unknown factors can show up at any time during a project. This technique is mainly used for IT projects where more traditional project management techniques don’t apply.This framework is based on the idea that project resources can change at any time. For example, budgets can change, timelines can shift, or team members working on the project may transition to different teams. APF focuses on the resources that a project has, as opposed to the resources a project needs.\\xa0Extreme Project Management (XPM)This type of project management is often used for very complex projects with a high level of uncertainty. This approach involves constantly adapting processes until they lead to the desired result. This type of project involves many spontaneous changes and it’s normal for teams to switch strategies from one week to the next.\\xa0XPM requires a lot of flexibility. This is one of the reasons why each sprint is short—only a few weeks maximum. This methodology allows for frequent changes, trial-and-error approaches to problems, and many iterations of self-correction.Read: Understanding the iterative process, with examplesAdaptive Software Development (ASD)This Agile methodology enables teams to quickly adapt to changing requirements. The main focus of this process is continuous adaptation. The phases of this project type—speculate, collaborate, and learn—allow for continuous learning as the project progresses.\\xa0It’s not uncommon for teams running ASD to be in all three phases of ASD at once. Because of its non-linear structure, it’s common for the phases to overlap. Because of the fluidity of this type of management, there’s a higher likelihood that the constant repetition of the three phases helps team members identify and solve problems much quicker than standard project management methods.Dynamic Systems Development Method (DSDM)The Dynamic Systems Development Method is an Agile method that focuses on a full project lifecycle. Because of this, DSDM has a more rigorous structure and foundation, unlike other Agile methods.\\xa0There are four main phases of DSDM:Feasibility and business studyFunctional mode or prototype iterationDesign and build iterationImplementationFeature Driven Development (FDD)Feature Driven Development blends different Agile best practices. While still an iterative method of project management, this model focuses more on the exact features of a software that the team is working to develop. Feature-driven development relies heavily on customer input, as the features the team prioritizes are the features that the customers need.\\xa0This model also allows teams to update projects frequently. If there is an error, it\\'s quick to cycle through and implement a fix as the phases of this framework are constantly moving.\\xa0Read: Waterfall vs. Agile vs. Kanban vs. Scrum: What\\'s the difference?Organize Agile processes with AsanaYou’ll often hear software development teams refer to the Agile process—but any team can run Agile. If you’re looking for a more flexible project management framework, try Agile.\\xa0Create an Agile project plan templateFAQs about Agile methodology meaning and best practicesWhat is Agile project management?Agile methodology in project management is an iterative approach to software development that emphasizes flexibility, collaboration, and continuous improvement. It breaks projects into small, manageable cycles called sprints, allowing teams to quickly adapt to changes and deliver incremental value.How are Agile teams structured?Agile teams are cross-functional and self-organizing, typically including a Product Owner (who defines priorities), a Scrum Master (who facilitates the Agile process), and a Development Team (which designs, builds, and tests the product). For example, a Scrum team in a software company may include developers, UX designers, and testers working together on a feature sprint.What tools are commonly used in Agile project management?Common Agile project management tools include Asana (for backlog management and Kanban boards), Azure DevOps (for CI/CD tracking), Slack (for communication), and Confluence (for documentation). These tools help teams collaborate and track progress in real-time.How is customer feedback incorporated into Agile development?Customer feedback is gathered through user testing, surveys, and sprint reviews and then used to refine the product backlog and prioritize features. For example, an e-commerce platform may analyze user complaints about checkout speed and prioritize performance improvements in the next sprint.How does Agile methodology impact project timelines and budgeting?Agile methodology shortens project timelines by delivering working software in incremental releases, reducing the risk of long development cycles. Budgeting is flexible, as teams adjust priorities based on evolving requirements, focusing on high-value features while controlling costs.What are the biggest challenges in adopting Agile methodology?Common challenges in Agile model adoption include resistance to change, lack of executive buy-in, inconsistent stakeholder involvement, and difficulties in scaling Agile practices for large organizations. Overcoming these challenges requires strong leadership, Agile workflow training, and clear communication of the benefits of Agile development methodologies.What are the risks of using Agile methodology, and how can they be mitigated?The risks of Agile methodology include scope creep, lack of clear documentation, and misalignment with business goals. These risks can be mitigated by setting clear objectives, maintaining a well-prioritized backlog, and ensuring continuous stakeholder collaboration. For example, a software startup may avoid scope creep by limiting sprint goals to high-impact features only.Related resourcesArticleUnderstanding the iterative process, with examplesArticleProof of concept (POC): How to demonstrate feasibility ArticleProduct development process: The 6 stages (with examples)ArticleWhat is a product backlog? (And how to create one)Asana HomeNew to Asana?Product overviewAll featuresLatest feature releasePricingStarter planAdvanced planEnterpriseApp integrationsAI work managementProject managementResource managementUse casesCampaign managementContent calendarCreative productionGoal managementNew hire onboardingOrganizational planningProduct launchesResource planningStrategic planningProject intakeAll use casesSolutionsMarketingOperationsITProductSalesHealthcareRetailEducationNonprofitsAll teamsResourcesHelp CenterGet supportAsana AcademyCertificationsForumResource hubProject templatesEventsCustomer SuccessDevelopers and APIPartnersSitemapCompanyAbout usLeadershipCustomersCareersInside AsanaDiversityPressInvestor relationsTrust and securityPrivacySupplier responsibilitySustainability and ESG© 2025 Asana, Inc.LanguageBahasa IndonesiaDeutschEnglishEspañolFrançaisItaliano日本語한국어NederlandsPolskiPortuguêsРусскийSvenska繁體中文XLinkedinInstagramFacebookYoutubeTermsTerms & PrivacyPrivacyDownload the Asana iOS appDownload the Asana Android app')]"
      ]
     },
     "execution_count": 7,
     "metadata": {},
     "output_type": "execute_result"
    }
   ],
   "source": [
    "docs=loader.load()\n",
    "docs"
   ]
  },
  {
   "cell_type": "code",
   "execution_count": 8,
   "id": "4057bfa7",
   "metadata": {},
   "outputs": [],
   "source": [
    "from langchain_text_splitters import RecursiveCharacterTextSplitter\n",
    "text_splitter=RecursiveCharacterTextSplitter(chunk_size=1000,chunk_overlap=200)\n",
    "documents=text_splitter.split_documents(docs)"
   ]
  },
  {
   "cell_type": "code",
   "execution_count": 9,
   "id": "99eb85b1",
   "metadata": {},
   "outputs": [
    {
     "data": {
      "text/plain": [
       "[Document(metadata={'source': 'https://asana.com/resources/agile-methodology', 'title': 'What Is Agile Methodology? (A Beginner’s Guide) [2025] • Asana', 'description': 'Agile methodology is a framework that breaks projects down into several dynamic phases, commonly known as sprints. Learn more. ', 'language': 'en'}, page_content=\"What Is Agile Methodology? (A Beginner’s Guide) [2025] • AsanaJoin us: Learn how to build a trusted AI strategy to support your company's intelligent transformation, featuring ForresterRegister nowx iconAsana HomeProduct chevron-down iconSolutions chevron-down iconResources chevron-down iconPricingChoose your preferred languageBahasa IndonesiaDeutschEnglishEspañolFrançaisItaliano日本語한국어NederlandsPolskiPortuguêsРусскийSvenska繁體中文Contact salesLog InGet startedProductchevron-down iconPLATFORMProduct overviewAll featuresLatest feature releaseApp integrationsCAPABILITIESproject iconProject managementgoal iconGoals and reportingasana-intelligence iconAsana AIworkflow iconWorkflows and automationportfolio iconResource managementmy-task iconAdmin and securityALL PLANSlist iconPersonalpremium iconStarterbriefcase iconAdvancedSolutionschevron-down iconCompany TypeEnterpriseSmall businessNonprofitTeamsOperationsMarketingITLeadersIndustriesHealthcareRetailFinancial\"),\n",
       " Document(metadata={'source': 'https://asana.com/resources/agile-methodology', 'title': 'What Is Agile Methodology? (A Beginner’s Guide) [2025] • Asana', 'description': 'Agile methodology is a framework that breaks projects down into several dynamic phases, commonly known as sprints. Learn more. ', 'language': 'en'}, page_content='iconPersonalpremium iconStarterbriefcase iconAdvancedSolutionschevron-down iconCompany TypeEnterpriseSmall businessNonprofitTeamsOperationsMarketingITLeadersIndustriesHealthcareRetailFinancial ServicesEducationManufacturingUse CasesGoal managementOrganizational planningProject intakeResource planningProduct launchesView all use casesarrow-right iconResourceschevron-down iconLearnHelp CenterAsana AcademyCertificationsForumsDiscoverWork management hubCustomer storiesEventsSUPPORT & SERVICESGet supportDeveloper supportPartnersCustomer successTemplatesProject plansTeam goals & objectivesTeam continuityMeeting agendaView all templatesarrow-right iconPricingGet startedGet startedLog InLaunch AsanaContact salesView demoDownload appPLATFORMProduct overviewAll featuresLatest feature releaseApp integrationsCAPABILITIESproject iconProject managementgoal iconGoals and reportingasana-intelligence iconAsana AIworkflow iconWorkflows and automationportfolio iconResource managementmy-task iconAdmin'),\n",
       " Document(metadata={'source': 'https://asana.com/resources/agile-methodology', 'title': 'What Is Agile Methodology? (A Beginner’s Guide) [2025] • Asana', 'description': 'Agile methodology is a framework that breaks projects down into several dynamic phases, commonly known as sprints. Learn more. ', 'language': 'en'}, page_content='iconProject managementgoal iconGoals and reportingasana-intelligence iconAsana AIworkflow iconWorkflows and automationportfolio iconResource managementmy-task iconAdmin and securityALL PLANSlist iconPersonalpremium iconStarterbriefcase iconAdvancedCompany TypeEnterpriseSmall businessNonprofitTeamsOperationsMarketingITLeadersIndustriesHealthcareRetailFinancial ServicesEducationManufacturingUse CasesGoal managementOrganizational planningProject intakeResource planningProduct launchesView all use casesarrow-right iconLearnHelp CenterAsana AcademyCertificationsForumsDiscoverWork management hubCustomer storiesEventsSUPPORT & SERVICESGet supportDeveloper supportPartnersCustomer successTemplatesProject plansTeam goals & objectivesTeam continuityMeeting agendaView all templatesarrow-right iconContact salesView demoDownload appResources|Agile|What is Agile methodology? (A beginner’ ...What is Agile methodology? (A beginner’s guide)Sarah LaoyanFebruary 20th, 20257 min'),\n",
       " Document(metadata={'source': 'https://asana.com/resources/agile-methodology', 'title': 'What Is Agile Methodology? (A Beginner’s Guide) [2025] • Asana', 'description': 'Agile methodology is a framework that breaks projects down into several dynamic phases, commonly known as sprints. Learn more. ', 'language': 'en'}, page_content=\"iconContact salesView demoDownload appResources|Agile|What is Agile methodology? (A beginner’ ...What is Agile methodology? (A beginner’s guide)Sarah LaoyanFebruary 20th, 20257 min readfacebookx-twitterlinkedinJump to sectionWhat is the Agile methodology?What are the 4 pillars of Agile?What are the 12 Agile principles?What are the benefits of the Agile development methodology?Types of Agile methodologiesOrganize Agile processes with AsanaFAQs about Agile methodology meaning and best practicesView templatesWatch demoSummaryAgile methodology is a project management framework that breaks projects down into several dynamic phases, commonly known as sprints. In this article, get a high-level overview of Agile project management, plus a few common frameworks to choose the right one for your team. Scrum, Kanban, waterfall, Agile.\\xa0There's a wide array of project management frameworks you can use. Some methods though, like waterfall, aren't as effective for software teams. With priorities and\"),\n",
       " Document(metadata={'source': 'https://asana.com/resources/agile-methodology', 'title': 'What Is Agile Methodology? (A Beginner’s Guide) [2025] • Asana', 'description': 'Agile methodology is a framework that breaks projects down into several dynamic phases, commonly known as sprints. Learn more. ', 'language': 'en'}, page_content=\"Scrum, Kanban, waterfall, Agile.\\xa0There's a wide array of project management frameworks you can use. Some methods though, like waterfall, aren't as effective for software teams. With priorities and customer needs constantly changing, the Agile methodology breaks projects up into several phases to drive continuous improvement.\\xa0Agile project management isn’t just useful for software development—all types of teams have been successful with this dynamic methodology. If you’re looking to get started with Agile methodology, you’ve come to the right place.See how you can superpower your operationsTransform overwhelm into opportunity when you align your teams, automate tracking, and make data-driven decisions. Do it all with ease and discover your path to operational excellence.Watch demoWhat is the Agile methodology?Agile methodology is a project management framework that breaks projects down into several dynamic phases, commonly known as sprints.\\xa0The Agile framework is an iterative\"),\n",
       " Document(metadata={'source': 'https://asana.com/resources/agile-methodology', 'title': 'What Is Agile Methodology? (A Beginner’s Guide) [2025] • Asana', 'description': 'Agile methodology is a framework that breaks projects down into several dynamic phases, commonly known as sprints. Learn more. ', 'language': 'en'}, page_content='is the Agile methodology?Agile methodology is a project management framework that breaks projects down into several dynamic phases, commonly known as sprints.\\xa0The Agile framework is an iterative methodology. After every sprint, teams reflect and look back to see if there was anything that could be improved so they can adjust their strategy for the next sprint.What is the Agile Manifesto?The Manifesto for Agile Software Development is a document that details the four values and 12 principles for Agile software development. It was published in February 2001 by 17 software developers who needed an alternative to the more linear product development process.\\xa0 What are the 4 pillars of Agile?As outlined in the Agile Manifesto, there are four main values of Agile project management:Individuals over processes and tools. Agile teams value team collaboration and teamwork over working independently and doing things \"by the book.”Working software over comprehensive documentation. The software'),\n",
       " Document(metadata={'source': 'https://asana.com/resources/agile-methodology', 'title': 'What Is Agile Methodology? (A Beginner’s Guide) [2025] • Asana', 'description': 'Agile methodology is a framework that breaks projects down into several dynamic phases, commonly known as sprints. Learn more. ', 'language': 'en'}, page_content='over processes and tools. Agile teams value team collaboration and teamwork over working independently and doing things \"by the book.”Working software over comprehensive documentation. The software that Agile teams develop should work. Additional work, like documentation, is not as important as developing good software.Customer collaboration over contract negotiation. Customers are extremely important within the Agile methodology. Agile teams allow customers to guide where the software should go. Therefore, customer collaboration is more important than the finer details of contract negotiation.Responding to change over following a plan. One of the major benefits of Agile project management is that it allows teams to be flexible. This framework allows for teams to quickly shift strategies and workflows without derailing an entire project.What are the 12 Agile principles?If the four values of the Agile model are the weight-bearing pillars of a house, then the 12 Agile principles are the'),\n",
       " Document(metadata={'source': 'https://asana.com/resources/agile-methodology', 'title': 'What Is Agile Methodology? (A Beginner’s Guide) [2025] • Asana', 'description': 'Agile methodology is a framework that breaks projects down into several dynamic phases, commonly known as sprints. Learn more. ', 'language': 'en'}, page_content=\"workflows without derailing an entire project.What are the 12 Agile principles?If the four values of the Agile model are the weight-bearing pillars of a house, then the 12 Agile principles are the rooms you can build within that house. These principles can be easily adapted to fit the needs of your software development process.\\xa0The 12 principles used in Agile methodology are:Satisfy customers through early, continuous improvement and delivery.When customers receive new updates regularly, they're more likely to see the changes they want within the product. This leads to happier, more satisfied customers—and more recurring revenue.Welcome changing requirements, even late in the project. The Agile framework is all about adaptability. In iterative approaches like Agile, being inflexible causes more harm than good.\\xa0Deliver value frequently. Similar to principle #1, continuous delivery of value to your customers or stakeholders frequently makes it less likely for them to churn.\\xa0Break the\"),\n",
       " Document(metadata={'source': 'https://asana.com/resources/agile-methodology', 'title': 'What Is Agile Methodology? (A Beginner’s Guide) [2025] • Asana', 'description': 'Agile methodology is a framework that breaks projects down into several dynamic phases, commonly known as sprints. Learn more. ', 'language': 'en'}, page_content='more harm than good.\\xa0Deliver value frequently. Similar to principle #1, continuous delivery of value to your customers or stakeholders frequently makes it less likely for them to churn.\\xa0Break the silos of your projects. Cross-functional teams and collaboration is a key Agile value. The goal is for people to break out of their individual projects and collaborate more frequently.\\xa0Build projects around motivated individuals. Agile management works best when teams are committed and actively working to achieve a goal.\\xa0The most effective way to communicate is face-to-face. If you’re working on a distributed team, spend time communicating in ways that involve face-to-face communication like Zoom calls or daily stand-up meetings.\\xa0Working software is the primary measure of progress. The ultimate goal of software development projects is a working product, and the Agile framework supports this by prioritizing functional software above all.Maintain a sustainable working pace. Some aspects of'),\n",
       " Document(metadata={'source': 'https://asana.com/resources/agile-methodology', 'title': 'What Is Agile Methodology? (A Beginner’s Guide) [2025] • Asana', 'description': 'Agile methodology is a framework that breaks projects down into several dynamic phases, commonly known as sprints. Learn more. ', 'language': 'en'}, page_content=\"goal of software development projects is a working product, and the Agile framework supports this by prioritizing functional software above all.Maintain a sustainable working pace. Some aspects of Agile project management can be fast-paced, but it shouldn't be so fast that team members burn out. The goal is to maintain sustainability throughout the development process.Continuous excellence enhances agility. If the team develops excellent code in one sprint, they can continue to build off of it the next. Continually creating great work allows teams to move faster in the future.\\xa0Simplicity is essential. Sometimes the simplest solution is the best solution. Agile development aims to not overcomplicate things and find simple answers to complex problems.\\xa0Self-organizing teams generate the most value. Similar to principle #5, proactive teams become valuable assets to the company as they strive to deliver continuous improvement.Regularly reflect and adjust your way of work to improve\"),\n",
       " Document(metadata={'source': 'https://asana.com/resources/agile-methodology', 'title': 'What Is Agile Methodology? (A Beginner’s Guide) [2025] • Asana', 'description': 'Agile methodology is a framework that breaks projects down into several dynamic phases, commonly known as sprints. Learn more. ', 'language': 'en'}, page_content=\"most value. Similar to principle #5, proactive teams become valuable assets to the company as they strive to deliver continuous improvement.Regularly reflect and adjust your way of work to improve effectiveness. Retrospective meetings are a common Agile practice. It's a dedicated time for Agile teams to look back and reflect on their performance and adapt their behaviors for the future.Create an Agile project plan templateWhat are the benefits of the Agile development methodology?You commonly find Agile project management used in application development or other types of software development. This is because software is constantly changing, and the needs of the product have to change with it.\\xa0Because of this, linear project management methods like the waterfall model are less effective. Here are a few other reasons why teams use Agile:Agile methods are adaptableThere's a reason why they call it the Agile methodology. One of the main benefits of using Agile processes in software\"),\n",
       " Document(metadata={'source': 'https://asana.com/resources/agile-methodology', 'title': 'What Is Agile Methodology? (A Beginner’s Guide) [2025] • Asana', 'description': 'Agile methodology is a framework that breaks projects down into several dynamic phases, commonly known as sprints. Learn more. ', 'language': 'en'}, page_content=\"Here are a few other reasons why teams use Agile:Agile methods are adaptableThere's a reason why they call it the Agile methodology. One of the main benefits of using Agile processes in software development is the ability to shift strategies quickly, without disrupting the flow of a project.\\xa0Because phases in the traditional waterfall method flow into one another, shifting strategies is challenging and can disrupt the rest of the project roadmap. Since software development is a much more adaptable field, project managing rapid changes in the traditional sense can be challenging. This is part of the reason why Agile project management is favored in software development.Agile fosters collaborative teamworkOne of the Agile principles states that the most effective way to communicate with your team is face-to-face. Combine this with the principle that encourages teams to break project silos and you have a recipe for collaborative teamwork.\\xa0While technology has changed since Agile’s\"),\n",
       " Document(metadata={'source': 'https://asana.com/resources/agile-methodology', 'title': 'What Is Agile Methodology? (A Beginner’s Guide) [2025] • Asana', 'description': 'Agile methodology is a framework that breaks projects down into several dynamic phases, commonly known as sprints. Learn more. ', 'language': 'en'}, page_content=\"your team is face-to-face. Combine this with the principle that encourages teams to break project silos and you have a recipe for collaborative teamwork.\\xa0While technology has changed since Agile’s inception and work has shifted to welcome more remote-friendly policies, the idea of working face-to-face still hasn't changed.Read: 10 easy steps to boost team collaborationAgile methods focus on customer needsOne of the unique aspects of software development is that teams can focus on customer needs much more closely than other industries. With the rise of cloud-based software, teams can get feedback from their actual customers quickly.\\xa0Since customer satisfaction is a key driver for software development, it’s easy to see why it was included in the Agile process. By collaborating with customers, Agile teams can prioritize features that focus on customer needs. When those needs change, teams can take an Agile approach and shift to a different project.\\xa0Types of Agile methodologiesThe Agile\"),\n",
       " Document(metadata={'source': 'https://asana.com/resources/agile-methodology', 'title': 'What Is Agile Methodology? (A Beginner’s Guide) [2025] • Asana', 'description': 'Agile methodology is a framework that breaks projects down into several dynamic phases, commonly known as sprints. Learn more. ', 'language': 'en'}, page_content=\"Agile teams can prioritize features that focus on customer needs. When those needs change, teams can take an Agile approach and shift to a different project.\\xa0Types of Agile methodologiesThe Agile framework is an umbrella for several different variations. Here are a few of the most common Agile methodologies.\\xa0KanbanKanban is a visual approach to Agile. Teams use online Kanban board tools to represent where certain tasks are in the development process. Tasks are represented by cards on a board, and stages are represented in columns. As team members work on tasks, they move cards from the backlog column to the column that represents the stage the task is in.This method is a good way for teams to identify roadblocks and to visualize the amount of work that’s getting done.\\xa0Read: A beginner's guide to Kanban boardsScrumScrum is a common Agile methodology for small teams and also involves sprints. The team is led by a Scrum master whose main job is to clear all obstacles for others executing\"),\n",
       " Document(metadata={'source': 'https://asana.com/resources/agile-methodology', 'title': 'What Is Agile Methodology? (A Beginner’s Guide) [2025] • Asana', 'description': 'Agile methodology is a framework that breaks projects down into several dynamic phases, commonly known as sprints. Learn more. ', 'language': 'en'}, page_content='to Kanban boardsScrumScrum is a common Agile methodology for small teams and also involves sprints. The team is led by a Scrum master whose main job is to clear all obstacles for others executing the day-to-day work.\\xa0Scrum teams meet daily to discuss active tasks, roadblocks, and anything else that may affect the development team.\\xa0\\xa0Sprint planning: This event kicks off the sprint. Sprint planning outlines what can be delivered in a sprint (and how).Sprint retrospective: This recurring meeting acts as a sprint review—to iterate on learnings from a previous sprint that will improve and streamline the next one.\\xa0Extreme Programming (XP)Typically used in software development, Extreme Programming (XP) is an Agile framework that outlines values that will allow your team to work together more effectively.\\xa0\\xa0The five values of XP include:CommunicationSimplicityFeedbackCourageRespect\\xa0\\xa0Similar to daily Scrum standups, there are regular releases and iterations, yet XP is much more technical in its'),\n",
       " Document(metadata={'source': 'https://asana.com/resources/agile-methodology', 'title': 'What Is Agile Methodology? (A Beginner’s Guide) [2025] • Asana', 'description': 'Agile methodology is a framework that breaks projects down into several dynamic phases, commonly known as sprints. Learn more. ', 'language': 'en'}, page_content='five values of XP include:CommunicationSimplicityFeedbackCourageRespect\\xa0\\xa0Similar to daily Scrum standups, there are regular releases and iterations, yet XP is much more technical in its approach. If your dev team needs to quickly release and respond to customer requests, XP focuses on the “how” it will get done.\\xa0Adaptive Project Framework (APF)The Adaptive Project Framework, also known as Adaptive Project Management (APM) grew from the idea that unknown factors can show up at any time during a project. This technique is mainly used for IT projects where more traditional project management techniques don’t apply.This framework is based on the idea that project resources can change at any time. For example, budgets can change, timelines can shift, or team members working on the project may transition to different teams. APF focuses on the resources that a project has, as opposed to the resources a project needs.\\xa0Extreme Project Management (XPM)This type of project management is often'),\n",
       " Document(metadata={'source': 'https://asana.com/resources/agile-methodology', 'title': 'What Is Agile Methodology? (A Beginner’s Guide) [2025] • Asana', 'description': 'Agile methodology is a framework that breaks projects down into several dynamic phases, commonly known as sprints. Learn more. ', 'language': 'en'}, page_content='transition to different teams. APF focuses on the resources that a project has, as opposed to the resources a project needs.\\xa0Extreme Project Management (XPM)This type of project management is often used for very complex projects with a high level of uncertainty. This approach involves constantly adapting processes until they lead to the desired result. This type of project involves many spontaneous changes and it’s normal for teams to switch strategies from one week to the next.\\xa0XPM requires a lot of flexibility. This is one of the reasons why each sprint is short—only a few weeks maximum. This methodology allows for frequent changes, trial-and-error approaches to problems, and many iterations of self-correction.Read: Understanding the iterative process, with examplesAdaptive Software Development (ASD)This Agile methodology enables teams to quickly adapt to changing requirements. The main focus of this process is continuous adaptation. The phases of this project type—speculate,'),\n",
       " Document(metadata={'source': 'https://asana.com/resources/agile-methodology', 'title': 'What Is Agile Methodology? (A Beginner’s Guide) [2025] • Asana', 'description': 'Agile methodology is a framework that breaks projects down into several dynamic phases, commonly known as sprints. Learn more. ', 'language': 'en'}, page_content='Development (ASD)This Agile methodology enables teams to quickly adapt to changing requirements. The main focus of this process is continuous adaptation. The phases of this project type—speculate, collaborate, and learn—allow for continuous learning as the project progresses.\\xa0It’s not uncommon for teams running ASD to be in all three phases of ASD at once. Because of its non-linear structure, it’s common for the phases to overlap. Because of the fluidity of this type of management, there’s a higher likelihood that the constant repetition of the three phases helps team members identify and solve problems much quicker than standard project management methods.Dynamic Systems Development Method (DSDM)The Dynamic Systems Development Method is an Agile method that focuses on a full project lifecycle. Because of this, DSDM has a more rigorous structure and foundation, unlike other Agile methods.\\xa0There are four main phases of DSDM:Feasibility and business studyFunctional mode or prototype'),\n",
       " Document(metadata={'source': 'https://asana.com/resources/agile-methodology', 'title': 'What Is Agile Methodology? (A Beginner’s Guide) [2025] • Asana', 'description': 'Agile methodology is a framework that breaks projects down into several dynamic phases, commonly known as sprints. Learn more. ', 'language': 'en'}, page_content=\"Because of this, DSDM has a more rigorous structure and foundation, unlike other Agile methods.\\xa0There are four main phases of DSDM:Feasibility and business studyFunctional mode or prototype iterationDesign and build iterationImplementationFeature Driven Development (FDD)Feature Driven Development blends different Agile best practices. While still an iterative method of project management, this model focuses more on the exact features of a software that the team is working to develop. Feature-driven development relies heavily on customer input, as the features the team prioritizes are the features that the customers need.\\xa0This model also allows teams to update projects frequently. If there is an error, it's quick to cycle through and implement a fix as the phases of this framework are constantly moving.\\xa0Read: Waterfall vs. Agile vs. Kanban vs. Scrum: What's the difference?Organize Agile processes with AsanaYou’ll often hear software development teams refer to the Agile process—but any\"),\n",
       " Document(metadata={'source': 'https://asana.com/resources/agile-methodology', 'title': 'What Is Agile Methodology? (A Beginner’s Guide) [2025] • Asana', 'description': 'Agile methodology is a framework that breaks projects down into several dynamic phases, commonly known as sprints. Learn more. ', 'language': 'en'}, page_content=\"moving.\\xa0Read: Waterfall vs. Agile vs. Kanban vs. Scrum: What's the difference?Organize Agile processes with AsanaYou’ll often hear software development teams refer to the Agile process—but any team can run Agile. If you’re looking for a more flexible project management framework, try Agile.\\xa0Create an Agile project plan templateFAQs about Agile methodology meaning and best practicesWhat is Agile project management?Agile methodology in project management is an iterative approach to software development that emphasizes flexibility, collaboration, and continuous improvement. It breaks projects into small, manageable cycles called sprints, allowing teams to quickly adapt to changes and deliver incremental value.How are Agile teams structured?Agile teams are cross-functional and self-organizing, typically including a Product Owner (who defines priorities), a Scrum Master (who facilitates the Agile process), and a Development Team (which designs, builds, and tests the product). For example,\"),\n",
       " Document(metadata={'source': 'https://asana.com/resources/agile-methodology', 'title': 'What Is Agile Methodology? (A Beginner’s Guide) [2025] • Asana', 'description': 'Agile methodology is a framework that breaks projects down into several dynamic phases, commonly known as sprints. Learn more. ', 'language': 'en'}, page_content='typically including a Product Owner (who defines priorities), a Scrum Master (who facilitates the Agile process), and a Development Team (which designs, builds, and tests the product). For example, a Scrum team in a software company may include developers, UX designers, and testers working together on a feature sprint.What tools are commonly used in Agile project management?Common Agile project management tools include Asana (for backlog management and Kanban boards), Azure DevOps (for CI/CD tracking), Slack (for communication), and Confluence (for documentation). These tools help teams collaborate and track progress in real-time.How is customer feedback incorporated into Agile development?Customer feedback is gathered through user testing, surveys, and sprint reviews and then used to refine the product backlog and prioritize features. For example, an e-commerce platform may analyze user complaints about checkout speed and prioritize performance improvements in the next sprint.How'),\n",
       " Document(metadata={'source': 'https://asana.com/resources/agile-methodology', 'title': 'What Is Agile Methodology? (A Beginner’s Guide) [2025] • Asana', 'description': 'Agile methodology is a framework that breaks projects down into several dynamic phases, commonly known as sprints. Learn more. ', 'language': 'en'}, page_content='refine the product backlog and prioritize features. For example, an e-commerce platform may analyze user complaints about checkout speed and prioritize performance improvements in the next sprint.How does Agile methodology impact project timelines and budgeting?Agile methodology shortens project timelines by delivering working software in incremental releases, reducing the risk of long development cycles. Budgeting is flexible, as teams adjust priorities based on evolving requirements, focusing on high-value features while controlling costs.What are the biggest challenges in adopting Agile methodology?Common challenges in Agile model adoption include resistance to change, lack of executive buy-in, inconsistent stakeholder involvement, and difficulties in scaling Agile practices for large organizations. Overcoming these challenges requires strong leadership, Agile workflow training, and clear communication of the benefits of Agile development methodologies.What are the risks of using'),\n",
       " Document(metadata={'source': 'https://asana.com/resources/agile-methodology', 'title': 'What Is Agile Methodology? (A Beginner’s Guide) [2025] • Asana', 'description': 'Agile methodology is a framework that breaks projects down into several dynamic phases, commonly known as sprints. Learn more. ', 'language': 'en'}, page_content='organizations. Overcoming these challenges requires strong leadership, Agile workflow training, and clear communication of the benefits of Agile development methodologies.What are the risks of using Agile methodology, and how can they be mitigated?The risks of Agile methodology include scope creep, lack of clear documentation, and misalignment with business goals. These risks can be mitigated by setting clear objectives, maintaining a well-prioritized backlog, and ensuring continuous stakeholder collaboration. For example, a software startup may avoid scope creep by limiting sprint goals to high-impact features only.Related resourcesArticleUnderstanding the iterative process, with examplesArticleProof of concept (POC): How to demonstrate feasibility ArticleProduct development process: The 6 stages (with examples)ArticleWhat is a product backlog? (And how to create one)Asana HomeNew to Asana?Product overviewAll featuresLatest feature releasePricingStarter planAdvanced planEnterpriseApp'),\n",
       " Document(metadata={'source': 'https://asana.com/resources/agile-methodology', 'title': 'What Is Agile Methodology? (A Beginner’s Guide) [2025] • Asana', 'description': 'Agile methodology is a framework that breaks projects down into several dynamic phases, commonly known as sprints. Learn more. ', 'language': 'en'}, page_content='6 stages (with examples)ArticleWhat is a product backlog? (And how to create one)Asana HomeNew to Asana?Product overviewAll featuresLatest feature releasePricingStarter planAdvanced planEnterpriseApp integrationsAI work managementProject managementResource managementUse casesCampaign managementContent calendarCreative productionGoal managementNew hire onboardingOrganizational planningProduct launchesResource planningStrategic planningProject intakeAll use casesSolutionsMarketingOperationsITProductSalesHealthcareRetailEducationNonprofitsAll teamsResourcesHelp CenterGet supportAsana AcademyCertificationsForumResource hubProject templatesEventsCustomer SuccessDevelopers and APIPartnersSitemapCompanyAbout usLeadershipCustomersCareersInside AsanaDiversityPressInvestor relationsTrust and securityPrivacySupplier responsibilitySustainability and ESG© 2025 Asana, Inc.LanguageBahasa'),\n",
       " Document(metadata={'source': 'https://asana.com/resources/agile-methodology', 'title': 'What Is Agile Methodology? (A Beginner’s Guide) [2025] • Asana', 'description': 'Agile methodology is a framework that breaks projects down into several dynamic phases, commonly known as sprints. Learn more. ', 'language': 'en'}, page_content='usLeadershipCustomersCareersInside AsanaDiversityPressInvestor relationsTrust and securityPrivacySupplier responsibilitySustainability and ESG© 2025 Asana, Inc.LanguageBahasa IndonesiaDeutschEnglishEspañolFrançaisItaliano日本語한국어NederlandsPolskiPortuguêsРусскийSvenska繁體中文XLinkedinInstagramFacebookYoutubeTermsTerms & PrivacyPrivacyDownload the Asana iOS appDownload the Asana Android app')]"
      ]
     },
     "execution_count": 9,
     "metadata": {},
     "output_type": "execute_result"
    }
   ],
   "source": [
    "documents"
   ]
  },
  {
   "cell_type": "code",
   "execution_count": 17,
   "id": "19e772ef",
   "metadata": {},
   "outputs": [
    {
     "data": {
      "text/plain": [
       "25"
      ]
     },
     "execution_count": 17,
     "metadata": {},
     "output_type": "execute_result"
    }
   ],
   "source": [
    "len(documents)"
   ]
  },
  {
   "cell_type": "code",
   "execution_count": 18,
   "id": "8470330c",
   "metadata": {},
   "outputs": [],
   "source": [
    "# Embeddings\n",
    "from langchain_google_genai import GoogleGenerativeAIEmbeddings\n",
    "embeddings = GoogleGenerativeAIEmbeddings(model=\"models/text-embedding-004\", task_type=\"retrieval_document\")"
   ]
  },
  {
   "cell_type": "code",
   "execution_count": 19,
   "id": "1bc56a75",
   "metadata": {},
   "outputs": [
    {
     "data": {
      "text/plain": [
       "<langchain_community.vectorstores.faiss.FAISS at 0x1e3f54bc070>"
      ]
     },
     "execution_count": 19,
     "metadata": {},
     "output_type": "execute_result"
    }
   ],
   "source": [
    "from langchain_community.vectorstores import FAISS\n",
    "db=FAISS.from_documents(documents,embeddings)\n",
    "db"
   ]
  },
  {
   "cell_type": "code",
   "execution_count": 33,
   "id": "1547c16f",
   "metadata": {},
   "outputs": [],
   "source": [
    "# Retrieval\n",
    "from langchain_google_genai import ChatGoogleGenerativeAI\n",
    "from langchain.chains.combine_documents import create_stuff_documents_chain\n",
    "from langchain_core.prompts import ChatPromptTemplate"
   ]
  },
  {
   "cell_type": "code",
   "execution_count": 34,
   "id": "3fa11236",
   "metadata": {},
   "outputs": [],
   "source": [
    "llm = ChatGoogleGenerativeAI(\n",
    "    model=\"gemini-2.0-flash-001\",\n",
    "    temperature=0.3,\n",
    "    max_retries=2\n",
    ")"
   ]
  },
  {
   "cell_type": "code",
   "execution_count": 35,
   "id": "2d64ce51",
   "metadata": {},
   "outputs": [],
   "source": [
    "prompt = ChatPromptTemplate.from_template(\n",
    "    \"\"\"\n",
    "    Answer the following question based on the provided context. For null context return output as, I do not know. :\n",
    "    <context>\n",
    "    {context}\n",
    "    </context>\n",
    "    \"\"\"\n",
    ")"
   ]
  },
  {
   "cell_type": "code",
   "execution_count": 36,
   "id": "14051040",
   "metadata": {},
   "outputs": [
    {
     "data": {
      "text/plain": [
       "RunnableBinding(bound=RunnableBinding(bound=RunnableAssign(mapper={\n",
       "  context: RunnableLambda(format_docs)\n",
       "}), kwargs={}, config={'run_name': 'format_inputs'}, config_factories=[])\n",
       "| ChatPromptTemplate(input_variables=['context'], input_types={}, partial_variables={}, messages=[HumanMessagePromptTemplate(prompt=PromptTemplate(input_variables=['context'], input_types={}, partial_variables={}, template='\\n    Answer the following question based on the provided context. For null context return output as, I do not know. :\\n    <context>\\n    {context}\\n    </context>\\n    '), additional_kwargs={})])\n",
       "| ChatGoogleGenerativeAI(model='models/gemini-2.0-flash-001', google_api_key=SecretStr('**********'), temperature=0.3, max_retries=2, client=<google.ai.generativelanguage_v1beta.services.generative_service.client.GenerativeServiceClient object at 0x000001E3F75F0550>, default_metadata=())\n",
       "| StrOutputParser(), kwargs={}, config={'run_name': 'stuff_documents_chain'}, config_factories=[])"
      ]
     },
     "execution_count": 36,
     "metadata": {},
     "output_type": "execute_result"
    }
   ],
   "source": [
    "document_chain=create_stuff_documents_chain(llm,prompt)\n",
    "document_chain"
   ]
  },
  {
   "cell_type": "code",
   "execution_count": 38,
   "id": "35189d30",
   "metadata": {},
   "outputs": [],
   "source": [
    "from langchain.chains import create_retrieval_chain"
   ]
  },
  {
   "cell_type": "code",
   "execution_count": 39,
   "id": "a33c9f37",
   "metadata": {},
   "outputs": [
    {
     "data": {
      "text/plain": [
       "RunnableBinding(bound=RunnableAssign(mapper={\n",
       "  context: RunnableBinding(bound=RunnableLambda(lambda x: x['input'])\n",
       "           | VectorStoreRetriever(tags=['FAISS', 'GoogleGenerativeAIEmbeddings'], vectorstore=<langchain_community.vectorstores.faiss.FAISS object at 0x000001E3F54BC070>, search_kwargs={}), kwargs={}, config={'run_name': 'retrieve_documents'}, config_factories=[])\n",
       "})\n",
       "| RunnableAssign(mapper={\n",
       "    answer: RunnableBinding(bound=RunnableBinding(bound=RunnableAssign(mapper={\n",
       "              context: RunnableLambda(format_docs)\n",
       "            }), kwargs={}, config={'run_name': 'format_inputs'}, config_factories=[])\n",
       "            | ChatPromptTemplate(input_variables=['context'], input_types={}, partial_variables={}, messages=[HumanMessagePromptTemplate(prompt=PromptTemplate(input_variables=['context'], input_types={}, partial_variables={}, template='\\n    Answer the following question based on the provided context. For null context return output as, I do not know. :\\n    <context>\\n    {context}\\n    </context>\\n    '), additional_kwargs={})])\n",
       "            | ChatGoogleGenerativeAI(model='models/gemini-2.0-flash-001', google_api_key=SecretStr('**********'), temperature=0.3, max_retries=2, client=<google.ai.generativelanguage_v1beta.services.generative_service.client.GenerativeServiceClient object at 0x000001E3F75F0550>, default_metadata=())\n",
       "            | StrOutputParser(), kwargs={}, config={'run_name': 'stuff_documents_chain'}, config_factories=[])\n",
       "  }), kwargs={}, config={'run_name': 'retrieval_chain'}, config_factories=[])"
      ]
     },
     "execution_count": 39,
     "metadata": {},
     "output_type": "execute_result"
    }
   ],
   "source": [
    "retriever=db.as_retriever()\n",
    "retrieval_chain=create_retrieval_chain(retriever,document_chain)\n",
    "retrieval_chain"
   ]
  },
  {
   "cell_type": "code",
   "execution_count": 40,
   "id": "396f1999",
   "metadata": {},
   "outputs": [
    {
     "data": {
      "text/plain": [
       "'Agile methodology is a project management framework that breaks projects down into several dynamic phases, commonly known as sprints. It is an iterative methodology where teams reflect after each sprint to identify areas for improvement and adjust their strategy accordingly. The Agile Manifesto outlines the four values and 12 principles for Agile software development. The four main values of Agile project management are:\\n\\n*   Individuals over processes and tools\\n*   Working software over comprehensive documentation\\n*   Customer collaboration over contract negotiation\\n*   Responding to change over following a plan\\n\\nThe 12 Agile principles are:\\n\\n*   Satisfy customers through early, continuous improvement and delivery.\\n*   Welcome changing requirements, even late in the project.\\n*   Deliver value frequently.'"
      ]
     },
     "execution_count": 40,
     "metadata": {},
     "output_type": "execute_result"
    }
   ],
   "source": [
    "response=retrieval_chain.invoke({\"input\":\"What are the 4 pillars of Agile?\"})\n",
    "response['answer']"
   ]
  },
  {
   "cell_type": "markdown",
   "id": "6c5131a6",
   "metadata": {},
   "source": [
    "'Agile methodology is a project management framework that breaks projects down into several dynamic phases, commonly known as sprints. It is an iterative methodology where teams reflect after each sprint to identify areas for improvement and adjust their strategy accordingly. The Agile Manifesto outlines the four values and 12 principles for Agile software development. The four main values of Agile project management are:\\n\\n*   Individuals over processes and tools\\n*   Working software over comprehensive documentation\\n*   Customer collaboration over contract negotiation\\n*   Responding to change over following a plan\\n\\nThe 12 Agile principles are:\\n\\n*   Satisfy customers through early, continuous improvement and delivery.\\n*   Welcome changing requirements, even late in the project.\\n*   Deliver value frequently.'"
   ]
  },
  {
   "cell_type": "code",
   "execution_count": 41,
   "id": "31cb5851",
   "metadata": {},
   "outputs": [
    {
     "data": {
      "text/plain": [
       "{'input': 'What are the 4 pillars of Agile?',\n",
       " 'context': [Document(id='afb96c3e-1d88-437d-9842-6eed4475eca5', metadata={'source': 'https://asana.com/resources/agile-methodology', 'title': 'What Is Agile Methodology? (A Beginner’s Guide) [2025] • Asana', 'description': 'Agile methodology is a framework that breaks projects down into several dynamic phases, commonly known as sprints. Learn more. ', 'language': 'en'}, page_content='is the Agile methodology?Agile methodology is a project management framework that breaks projects down into several dynamic phases, commonly known as sprints.\\xa0The Agile framework is an iterative methodology. After every sprint, teams reflect and look back to see if there was anything that could be improved so they can adjust their strategy for the next sprint.What is the Agile Manifesto?The Manifesto for Agile Software Development is a document that details the four values and 12 principles for Agile software development. It was published in February 2001 by 17 software developers who needed an alternative to the more linear product development process.\\xa0 What are the 4 pillars of Agile?As outlined in the Agile Manifesto, there are four main values of Agile project management:Individuals over processes and tools. Agile teams value team collaboration and teamwork over working independently and doing things \"by the book.”Working software over comprehensive documentation. The software'),\n",
       "  Document(id='f1478cb8-1bb1-4224-a7e5-280ef021fef8', metadata={'source': 'https://asana.com/resources/agile-methodology', 'title': 'What Is Agile Methodology? (A Beginner’s Guide) [2025] • Asana', 'description': 'Agile methodology is a framework that breaks projects down into several dynamic phases, commonly known as sprints. Learn more. ', 'language': 'en'}, page_content=\"iconContact salesView demoDownload appResources|Agile|What is Agile methodology? (A beginner’ ...What is Agile methodology? (A beginner’s guide)Sarah LaoyanFebruary 20th, 20257 min readfacebookx-twitterlinkedinJump to sectionWhat is the Agile methodology?What are the 4 pillars of Agile?What are the 12 Agile principles?What are the benefits of the Agile development methodology?Types of Agile methodologiesOrganize Agile processes with AsanaFAQs about Agile methodology meaning and best practicesView templatesWatch demoSummaryAgile methodology is a project management framework that breaks projects down into several dynamic phases, commonly known as sprints. In this article, get a high-level overview of Agile project management, plus a few common frameworks to choose the right one for your team. Scrum, Kanban, waterfall, Agile.\\xa0There's a wide array of project management frameworks you can use. Some methods though, like waterfall, aren't as effective for software teams. With priorities and\"),\n",
       "  Document(id='b57d7e91-52d2-4fca-98c2-c4135023e104', metadata={'source': 'https://asana.com/resources/agile-methodology', 'title': 'What Is Agile Methodology? (A Beginner’s Guide) [2025] • Asana', 'description': 'Agile methodology is a framework that breaks projects down into several dynamic phases, commonly known as sprints. Learn more. ', 'language': 'en'}, page_content='over processes and tools. Agile teams value team collaboration and teamwork over working independently and doing things \"by the book.”Working software over comprehensive documentation. The software that Agile teams develop should work. Additional work, like documentation, is not as important as developing good software.Customer collaboration over contract negotiation. Customers are extremely important within the Agile methodology. Agile teams allow customers to guide where the software should go. Therefore, customer collaboration is more important than the finer details of contract negotiation.Responding to change over following a plan. One of the major benefits of Agile project management is that it allows teams to be flexible. This framework allows for teams to quickly shift strategies and workflows without derailing an entire project.What are the 12 Agile principles?If the four values of the Agile model are the weight-bearing pillars of a house, then the 12 Agile principles are the'),\n",
       "  Document(id='92da8a3d-9280-41bc-8b0d-b67881d2c09f', metadata={'source': 'https://asana.com/resources/agile-methodology', 'title': 'What Is Agile Methodology? (A Beginner’s Guide) [2025] • Asana', 'description': 'Agile methodology is a framework that breaks projects down into several dynamic phases, commonly known as sprints. Learn more. ', 'language': 'en'}, page_content=\"workflows without derailing an entire project.What are the 12 Agile principles?If the four values of the Agile model are the weight-bearing pillars of a house, then the 12 Agile principles are the rooms you can build within that house. These principles can be easily adapted to fit the needs of your software development process.\\xa0The 12 principles used in Agile methodology are:Satisfy customers through early, continuous improvement and delivery.When customers receive new updates regularly, they're more likely to see the changes they want within the product. This leads to happier, more satisfied customers—and more recurring revenue.Welcome changing requirements, even late in the project. The Agile framework is all about adaptability. In iterative approaches like Agile, being inflexible causes more harm than good.\\xa0Deliver value frequently. Similar to principle #1, continuous delivery of value to your customers or stakeholders frequently makes it less likely for them to churn.\\xa0Break the\")],\n",
       " 'answer': 'Agile methodology is a project management framework that breaks projects down into several dynamic phases, commonly known as sprints. It is an iterative methodology where teams reflect after each sprint to identify areas for improvement and adjust their strategy accordingly. The Agile Manifesto outlines the four values and 12 principles for Agile software development. The four main values of Agile project management are:\\n\\n*   Individuals over processes and tools\\n*   Working software over comprehensive documentation\\n*   Customer collaboration over contract negotiation\\n*   Responding to change over following a plan\\n\\nThe 12 Agile principles are:\\n\\n*   Satisfy customers through early, continuous improvement and delivery.\\n*   Welcome changing requirements, even late in the project.\\n*   Deliver value frequently.'}"
      ]
     },
     "execution_count": 41,
     "metadata": {},
     "output_type": "execute_result"
    }
   ],
   "source": [
    "response"
   ]
  },
  {
   "cell_type": "code",
   "execution_count": 44,
   "id": "989df56a",
   "metadata": {},
   "outputs": [
    {
     "data": {
      "text/plain": [
       "'Here are a few other reasons why teams use Agile:\\n\\n*   Agile methods are adaptable\\n*   Agile fosters collaborative teamwork\\n*   Goal of software development projects is a working product\\n*   Maintain a sustainable working pace\\n*   Continuous excellence enhances agility\\n*   Simplicity is essential\\n*   Self-organizing teams generate the most value\\n*   Regularly reflect and adjust your way of work to improve'"
      ]
     },
     "execution_count": 44,
     "metadata": {},
     "output_type": "execute_result"
    }
   ],
   "source": [
    "response=retrieval_chain.invoke({\"input\":\"What are the benefits of Agile?\"})\n",
    "response['answer']"
   ]
  },
  {
   "cell_type": "code",
   "execution_count": 45,
   "metadata": {},
   "outputs": [
    {
     "data": {
      "text/plain": [
       "{'input': 'What are the benefits of Agile?',\n",
       " 'context': [Document(id='69eebd99-32b1-482f-87fc-6056c1c2f863', metadata={'source': 'https://asana.com/resources/agile-methodology', 'title': 'What Is Agile Methodology? (A Beginner’s Guide) [2025] • Asana', 'description': 'Agile methodology is a framework that breaks projects down into several dynamic phases, commonly known as sprints. Learn more. ', 'language': 'en'}, page_content=\"Here are a few other reasons why teams use Agile:Agile methods are adaptableThere's a reason why they call it the Agile methodology. One of the main benefits of using Agile processes in software development is the ability to shift strategies quickly, without disrupting the flow of a project.\\xa0Because phases in the traditional waterfall method flow into one another, shifting strategies is challenging and can disrupt the rest of the project roadmap. Since software development is a much more adaptable field, project managing rapid changes in the traditional sense can be challenging. This is part of the reason why Agile project management is favored in software development.Agile fosters collaborative teamworkOne of the Agile principles states that the most effective way to communicate with your team is face-to-face. Combine this with the principle that encourages teams to break project silos and you have a recipe for collaborative teamwork.\\xa0While technology has changed since Agile’s\"),\n",
       "  Document(id='a861b339-ccf6-4446-ba9a-619a30ec3c13', metadata={'source': 'https://asana.com/resources/agile-methodology', 'title': 'What Is Agile Methodology? (A Beginner’s Guide) [2025] • Asana', 'description': 'Agile methodology is a framework that breaks projects down into several dynamic phases, commonly known as sprints. Learn more. ', 'language': 'en'}, page_content=\"most value. Similar to principle #5, proactive teams become valuable assets to the company as they strive to deliver continuous improvement.Regularly reflect and adjust your way of work to improve effectiveness. Retrospective meetings are a common Agile practice. It's a dedicated time for Agile teams to look back and reflect on their performance and adapt their behaviors for the future.Create an Agile project plan templateWhat are the benefits of the Agile development methodology?You commonly find Agile project management used in application development or other types of software development. This is because software is constantly changing, and the needs of the product have to change with it.\\xa0Because of this, linear project management methods like the waterfall model are less effective. Here are a few other reasons why teams use Agile:Agile methods are adaptableThere's a reason why they call it the Agile methodology. One of the main benefits of using Agile processes in software\"),\n",
       "  Document(id='9dc2d0bd-5390-4693-a060-c4d054aeaaf1', metadata={'source': 'https://asana.com/resources/agile-methodology', 'title': 'What Is Agile Methodology? (A Beginner’s Guide) [2025] • Asana', 'description': 'Agile methodology is a framework that breaks projects down into several dynamic phases, commonly known as sprints. Learn more. ', 'language': 'en'}, page_content=\"goal of software development projects is a working product, and the Agile framework supports this by prioritizing functional software above all.Maintain a sustainable working pace. Some aspects of Agile project management can be fast-paced, but it shouldn't be so fast that team members burn out. The goal is to maintain sustainability throughout the development process.Continuous excellence enhances agility. If the team develops excellent code in one sprint, they can continue to build off of it the next. Continually creating great work allows teams to move faster in the future.\\xa0Simplicity is essential. Sometimes the simplest solution is the best solution. Agile development aims to not overcomplicate things and find simple answers to complex problems.\\xa0Self-organizing teams generate the most value. Similar to principle #5, proactive teams become valuable assets to the company as they strive to deliver continuous improvement.Regularly reflect and adjust your way of work to improve\"),\n",
       "  Document(id='b57d7e91-52d2-4fca-98c2-c4135023e104', metadata={'source': 'https://asana.com/resources/agile-methodology', 'title': 'What Is Agile Methodology? (A Beginner’s Guide) [2025] • Asana', 'description': 'Agile methodology is a framework that breaks projects down into several dynamic phases, commonly known as sprints. Learn more. ', 'language': 'en'}, page_content='over processes and tools. Agile teams value team collaboration and teamwork over working independently and doing things \"by the book.”Working software over comprehensive documentation. The software that Agile teams develop should work. Additional work, like documentation, is not as important as developing good software.Customer collaboration over contract negotiation. Customers are extremely important within the Agile methodology. Agile teams allow customers to guide where the software should go. Therefore, customer collaboration is more important than the finer details of contract negotiation.Responding to change over following a plan. One of the major benefits of Agile project management is that it allows teams to be flexible. This framework allows for teams to quickly shift strategies and workflows without derailing an entire project.What are the 12 Agile principles?If the four values of the Agile model are the weight-bearing pillars of a house, then the 12 Agile principles are the')],\n",
       " 'answer': 'Here are a few other reasons why teams use Agile:\\n\\n*   Agile methods are adaptable\\n*   Agile fosters collaborative teamwork\\n*   Goal of software development projects is a working product\\n*   Maintain a sustainable working pace\\n*   Continuous excellence enhances agility\\n*   Simplicity is essential\\n*   Self-organizing teams generate the most value\\n*   Regularly reflect and adjust your way of work to improve'}"
      ]
     },
     "execution_count": 45,
     "metadata": {},
     "output_type": "execute_result"
    }
   ],
   "source": [
    "response"
   ]
  }
 ],
 "metadata": {
  "kernelspec": {
   "display_name": ".venv",
   "language": "python",
   "name": "python3"
  },
  "language_info": {
   "codemirror_mode": {
    "name": "ipython",
    "version": 3
   },
   "file_extension": ".py",
   "mimetype": "text/x-python",
   "name": "python",
   "nbconvert_exporter": "python",
   "pygments_lexer": "ipython3",
   "version": "3.10.0"
  }
 },
 "nbformat": 4,
 "nbformat_minor": 5
}
